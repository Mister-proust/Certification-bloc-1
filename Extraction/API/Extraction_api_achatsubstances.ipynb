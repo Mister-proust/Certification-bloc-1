{
 "cells": [
  {
   "cell_type": "code",
   "execution_count": 1,
   "id": "15fe915e-1806-40f7-89b0-8fca03477eda",
   "metadata": {},
   "outputs": [],
   "source": [
    "import requests\n",
    "import pandas as pd\n",
    "from sqlalchemy import create_engine\n",
    "from tqdm.notebook import tqdm\n",
    "import time"
   ]
  },
  {
   "cell_type": "code",
   "execution_count": 2,
   "id": "e563cffb-f4cd-4564-a10a-0f579fc108ae",
   "metadata": {},
   "outputs": [],
   "source": [
    "# Le début des relevés est 2013. \n",
    "\n",
    "def get_all_data():\n",
    "    base_url = \"https://hubeau.eaufrance.fr/api/v1/vente_achat_phyto/achats/substances\"\n",
    "    params = {\n",
    "        \"type_territoire\": \"Département\",\n",
    "        \"annee_min\": 2012,\n",
    "        \"annee_max\": 2026,\n",
    "        \"size\": 20000,\n",
    "        \"page\": 1\n",
    "    }\n",
    "\n",
    "    all_data = []\n",
    "\n",
    "    print(\" Accès à l'API en cours... Veuillez patienter.\")\n",
    "    \n",
    "    start_time = time.time()\n",
    "    \n",
    "    while True:\n",
    "        response = requests.get(base_url, params=params)\n",
    "        response.raise_for_status()\n",
    "        data_page = response.json().get(\"data\", [])\n",
    "        \n",
    "        if not data_page:\n",
    "            break\n",
    "        \n",
    "        all_data.extend(data_page)\n",
    "        params[\"page\"] += 1\n",
    "\n",
    "        \n",
    "    end_time = time.time()\n",
    "    duration = end_time - start_time\n",
    "\n",
    "    print(f\"Nombre de fichiers récupérés :{len(all_data)}\")\n",
    "    return pd.DataFrame(all_data)\n"
   ]
  },
  {
   "cell_type": "code",
   "execution_count": 3,
   "id": "15910f83-8d6c-48af-8460-f42ea5075dd4",
   "metadata": {},
   "outputs": [
    {
     "name": "stdout",
     "output_type": "stream",
     "text": [
      " Accès à l'API en cours... Veuillez patienter.\n",
      "Nombre de fichiers récupérés :1298846\n"
     ]
    }
   ],
   "source": [
    "df = get_all_data()"
   ]
  },
  {
   "cell_type": "code",
   "execution_count": 4,
   "id": "572f0687-1387-4d15-be28-cc865ead0f6f",
   "metadata": {},
   "outputs": [
    {
     "data": {
      "text/html": [
       "<div>\n",
       "<style scoped>\n",
       "    .dataframe tbody tr th:only-of-type {\n",
       "        vertical-align: middle;\n",
       "    }\n",
       "\n",
       "    .dataframe tbody tr th {\n",
       "        vertical-align: top;\n",
       "    }\n",
       "\n",
       "    .dataframe thead th {\n",
       "        text-align: right;\n",
       "    }\n",
       "</style>\n",
       "<table border=\"1\" class=\"dataframe\">\n",
       "  <thead>\n",
       "    <tr style=\"text-align: right;\">\n",
       "      <th></th>\n",
       "      <th>amm</th>\n",
       "      <th>annee</th>\n",
       "      <th>achat_etranger</th>\n",
       "      <th>classification</th>\n",
       "      <th>classification_mention</th>\n",
       "      <th>code_cas</th>\n",
       "      <th>code_substance</th>\n",
       "      <th>code_territoire</th>\n",
       "      <th>fonction</th>\n",
       "      <th>libelle_substance</th>\n",
       "      <th>libelle_territoire</th>\n",
       "      <th>quantite</th>\n",
       "      <th>type_territoire</th>\n",
       "      <th>uri_substance</th>\n",
       "      <th>uri_territoire</th>\n",
       "    </tr>\n",
       "  </thead>\n",
       "  <tbody>\n",
       "    <tr>\n",
       "      <th>0</th>\n",
       "      <td>2210071</td>\n",
       "      <td>2023</td>\n",
       "      <td>Non</td>\n",
       "      <td>Env B</td>\n",
       "      <td>None</td>\n",
       "      <td>1918-00-9</td>\n",
       "      <td>1480</td>\n",
       "      <td>16</td>\n",
       "      <td>Herbicide</td>\n",
       "      <td>dicamba</td>\n",
       "      <td>CHARENTE</td>\n",
       "      <td>32.00</td>\n",
       "      <td>Département</td>\n",
       "      <td>http://id.eaufrance.fr/par/1480</td>\n",
       "      <td>http://id.eaufrance.fr/dep/16</td>\n",
       "    </tr>\n",
       "    <tr>\n",
       "      <th>1</th>\n",
       "      <td>9900340</td>\n",
       "      <td>2023</td>\n",
       "      <td>Non</td>\n",
       "      <td>Env A</td>\n",
       "      <td>None</td>\n",
       "      <td>137641-05-5</td>\n",
       "      <td>5665</td>\n",
       "      <td>49</td>\n",
       "      <td>Herbicide</td>\n",
       "      <td>picolinafen</td>\n",
       "      <td>MAINE-ET-LOIRE</td>\n",
       "      <td>16.16</td>\n",
       "      <td>Département</td>\n",
       "      <td>http://id.eaufrance.fr/par/5665</td>\n",
       "      <td>http://id.eaufrance.fr/dep/49</td>\n",
       "    </tr>\n",
       "    <tr>\n",
       "      <th>2</th>\n",
       "      <td>9800182</td>\n",
       "      <td>2023</td>\n",
       "      <td>Non</td>\n",
       "      <td>Env A</td>\n",
       "      <td>None</td>\n",
       "      <td>87392-12-9</td>\n",
       "      <td>8070</td>\n",
       "      <td>67</td>\n",
       "      <td>Herbicide</td>\n",
       "      <td>s-metolachlore</td>\n",
       "      <td>BAS-RHIN</td>\n",
       "      <td>15163.68</td>\n",
       "      <td>Département</td>\n",
       "      <td>http://id.eaufrance.fr/par/8070</td>\n",
       "      <td>http://id.eaufrance.fr/dep/67</td>\n",
       "    </tr>\n",
       "    <tr>\n",
       "      <th>3</th>\n",
       "      <td>2110191</td>\n",
       "      <td>2023</td>\n",
       "      <td>Non</td>\n",
       "      <td>CMR</td>\n",
       "      <td>None</td>\n",
       "      <td>119446-68-3</td>\n",
       "      <td>1905</td>\n",
       "      <td>60</td>\n",
       "      <td>Fongicide</td>\n",
       "      <td>difenoconazole</td>\n",
       "      <td>OISE</td>\n",
       "      <td>3527.60</td>\n",
       "      <td>Département</td>\n",
       "      <td>http://id.eaufrance.fr/par/1905</td>\n",
       "      <td>http://id.eaufrance.fr/dep/60</td>\n",
       "    </tr>\n",
       "    <tr>\n",
       "      <th>4</th>\n",
       "      <td>2090153</td>\n",
       "      <td>2023</td>\n",
       "      <td>Non</td>\n",
       "      <td>Env A</td>\n",
       "      <td>None</td>\n",
       "      <td>142469-14-5</td>\n",
       "      <td>7087</td>\n",
       "      <td>25</td>\n",
       "      <td>Herbicide</td>\n",
       "      <td>tritosulfuron</td>\n",
       "      <td>DOUBS</td>\n",
       "      <td>78.00</td>\n",
       "      <td>Département</td>\n",
       "      <td>http://id.eaufrance.fr/par/7087</td>\n",
       "      <td>http://id.eaufrance.fr/dep/25</td>\n",
       "    </tr>\n",
       "  </tbody>\n",
       "</table>\n",
       "</div>"
      ],
      "text/plain": [
       "       amm  annee achat_etranger classification classification_mention  \\\n",
       "0  2210071   2023            Non          Env B                   None   \n",
       "1  9900340   2023            Non          Env A                   None   \n",
       "2  9800182   2023            Non          Env A                   None   \n",
       "3  2110191   2023            Non            CMR                   None   \n",
       "4  2090153   2023            Non          Env A                   None   \n",
       "\n",
       "      code_cas code_substance code_territoire   fonction libelle_substance  \\\n",
       "0    1918-00-9           1480              16  Herbicide           dicamba   \n",
       "1  137641-05-5           5665              49  Herbicide       picolinafen   \n",
       "2   87392-12-9           8070              67  Herbicide    s-metolachlore   \n",
       "3  119446-68-3           1905              60  Fongicide    difenoconazole   \n",
       "4  142469-14-5           7087              25  Herbicide     tritosulfuron   \n",
       "\n",
       "  libelle_territoire  quantite type_territoire  \\\n",
       "0           CHARENTE     32.00     Département   \n",
       "1     MAINE-ET-LOIRE     16.16     Département   \n",
       "2           BAS-RHIN  15163.68     Département   \n",
       "3               OISE   3527.60     Département   \n",
       "4              DOUBS     78.00     Département   \n",
       "\n",
       "                     uri_substance                 uri_territoire  \n",
       "0  http://id.eaufrance.fr/par/1480  http://id.eaufrance.fr/dep/16  \n",
       "1  http://id.eaufrance.fr/par/5665  http://id.eaufrance.fr/dep/49  \n",
       "2  http://id.eaufrance.fr/par/8070  http://id.eaufrance.fr/dep/67  \n",
       "3  http://id.eaufrance.fr/par/1905  http://id.eaufrance.fr/dep/60  \n",
       "4  http://id.eaufrance.fr/par/7087  http://id.eaufrance.fr/dep/25  "
      ]
     },
     "execution_count": 4,
     "metadata": {},
     "output_type": "execute_result"
    }
   ],
   "source": [
    "df.head()"
   ]
  },
  {
   "cell_type": "code",
   "execution_count": 5,
   "id": "653a7b07-01e3-471c-a8ff-d1f57965ff81",
   "metadata": {},
   "outputs": [],
   "source": [
    "# Souhait de ne conserver que les substances étant classifiées CMR. Avant 2018, il était écrit T, T+, CMR\n",
    "# et à partir de 2018, juste CMR. Je choisi donc de filtrer mon dataframe pour ne conserver que ces valeurs.\n",
    "df_cmr = df[df[\"classification\"].isin([\"CMR\", \"T, T+, CMR\"])]\n"
   ]
  },
  {
   "cell_type": "code",
   "execution_count": 6,
   "id": "969251e8-519b-4d39-9489-b4bad60eabfd",
   "metadata": {},
   "outputs": [
    {
     "data": {
      "text/html": [
       "<div>\n",
       "<style scoped>\n",
       "    .dataframe tbody tr th:only-of-type {\n",
       "        vertical-align: middle;\n",
       "    }\n",
       "\n",
       "    .dataframe tbody tr th {\n",
       "        vertical-align: top;\n",
       "    }\n",
       "\n",
       "    .dataframe thead th {\n",
       "        text-align: right;\n",
       "    }\n",
       "</style>\n",
       "<table border=\"1\" class=\"dataframe\">\n",
       "  <thead>\n",
       "    <tr style=\"text-align: right;\">\n",
       "      <th></th>\n",
       "      <th>amm</th>\n",
       "      <th>annee</th>\n",
       "      <th>achat_etranger</th>\n",
       "      <th>classification</th>\n",
       "      <th>classification_mention</th>\n",
       "      <th>code_cas</th>\n",
       "      <th>code_substance</th>\n",
       "      <th>code_territoire</th>\n",
       "      <th>fonction</th>\n",
       "      <th>libelle_substance</th>\n",
       "      <th>libelle_territoire</th>\n",
       "      <th>quantite</th>\n",
       "      <th>type_territoire</th>\n",
       "      <th>uri_substance</th>\n",
       "      <th>uri_territoire</th>\n",
       "    </tr>\n",
       "  </thead>\n",
       "  <tbody>\n",
       "    <tr>\n",
       "      <th>3</th>\n",
       "      <td>2110191</td>\n",
       "      <td>2023</td>\n",
       "      <td>Non</td>\n",
       "      <td>CMR</td>\n",
       "      <td>None</td>\n",
       "      <td>119446-68-3</td>\n",
       "      <td>1905</td>\n",
       "      <td>60</td>\n",
       "      <td>Fongicide</td>\n",
       "      <td>difenoconazole</td>\n",
       "      <td>OISE</td>\n",
       "      <td>3527.60</td>\n",
       "      <td>Département</td>\n",
       "      <td>http://id.eaufrance.fr/par/1905</td>\n",
       "      <td>http://id.eaufrance.fr/dep/60</td>\n",
       "    </tr>\n",
       "    <tr>\n",
       "      <th>7</th>\n",
       "      <td>8700020</td>\n",
       "      <td>2023</td>\n",
       "      <td>Non</td>\n",
       "      <td>CMR</td>\n",
       "      <td>Exclusion</td>\n",
       "      <td>61213-25-0</td>\n",
       "      <td>1675</td>\n",
       "      <td>30</td>\n",
       "      <td>Herbicide</td>\n",
       "      <td>flurochloridone</td>\n",
       "      <td>GARD</td>\n",
       "      <td>131.25</td>\n",
       "      <td>Département</td>\n",
       "      <td>http://id.eaufrance.fr/par/1675</td>\n",
       "      <td>http://id.eaufrance.fr/dep/30</td>\n",
       "    </tr>\n",
       "    <tr>\n",
       "      <th>10</th>\n",
       "      <td>2160198</td>\n",
       "      <td>2023</td>\n",
       "      <td>Non</td>\n",
       "      <td>CMR</td>\n",
       "      <td>None</td>\n",
       "      <td>107534-96-3</td>\n",
       "      <td>1694</td>\n",
       "      <td>53</td>\n",
       "      <td>Fongicide</td>\n",
       "      <td>tebuconazole</td>\n",
       "      <td>MAYENNE</td>\n",
       "      <td>11.25</td>\n",
       "      <td>Département</td>\n",
       "      <td>http://id.eaufrance.fr/par/1694</td>\n",
       "      <td>http://id.eaufrance.fr/dep/53</td>\n",
       "    </tr>\n",
       "    <tr>\n",
       "      <th>15</th>\n",
       "      <td>7400755</td>\n",
       "      <td>2023</td>\n",
       "      <td>Non</td>\n",
       "      <td>CMR</td>\n",
       "      <td>None</td>\n",
       "      <td>86-87-3</td>\n",
       "      <td>5584</td>\n",
       "      <td>38</td>\n",
       "      <td>Régulateur de croissance</td>\n",
       "      <td>acide alpha naphtylacetique (ana)</td>\n",
       "      <td>ISERE</td>\n",
       "      <td>6.05</td>\n",
       "      <td>Département</td>\n",
       "      <td>http://id.eaufrance.fr/par/5584</td>\n",
       "      <td>http://id.eaufrance.fr/dep/38</td>\n",
       "    </tr>\n",
       "    <tr>\n",
       "      <th>17</th>\n",
       "      <td>2140110</td>\n",
       "      <td>2023</td>\n",
       "      <td>Non</td>\n",
       "      <td>CMR</td>\n",
       "      <td>None</td>\n",
       "      <td>67129-08-2</td>\n",
       "      <td>1670</td>\n",
       "      <td>69</td>\n",
       "      <td>Herbicide</td>\n",
       "      <td>metazachlore</td>\n",
       "      <td>RHONE</td>\n",
       "      <td>2.00</td>\n",
       "      <td>Département</td>\n",
       "      <td>http://id.eaufrance.fr/par/1670</td>\n",
       "      <td>http://id.eaufrance.fr/dep/69</td>\n",
       "    </tr>\n",
       "  </tbody>\n",
       "</table>\n",
       "</div>"
      ],
      "text/plain": [
       "        amm  annee achat_etranger classification classification_mention  \\\n",
       "3   2110191   2023            Non            CMR                   None   \n",
       "7   8700020   2023            Non            CMR              Exclusion   \n",
       "10  2160198   2023            Non            CMR                   None   \n",
       "15  7400755   2023            Non            CMR                   None   \n",
       "17  2140110   2023            Non            CMR                   None   \n",
       "\n",
       "       code_cas code_substance code_territoire                  fonction  \\\n",
       "3   119446-68-3           1905              60                 Fongicide   \n",
       "7    61213-25-0           1675              30                 Herbicide   \n",
       "10  107534-96-3           1694              53                 Fongicide   \n",
       "15      86-87-3           5584              38  Régulateur de croissance   \n",
       "17   67129-08-2           1670              69                 Herbicide   \n",
       "\n",
       "                    libelle_substance libelle_territoire  quantite  \\\n",
       "3                      difenoconazole               OISE   3527.60   \n",
       "7                     flurochloridone               GARD    131.25   \n",
       "10                       tebuconazole            MAYENNE     11.25   \n",
       "15  acide alpha naphtylacetique (ana)              ISERE      6.05   \n",
       "17                       metazachlore              RHONE      2.00   \n",
       "\n",
       "   type_territoire                    uri_substance  \\\n",
       "3      Département  http://id.eaufrance.fr/par/1905   \n",
       "7      Département  http://id.eaufrance.fr/par/1675   \n",
       "10     Département  http://id.eaufrance.fr/par/1694   \n",
       "15     Département  http://id.eaufrance.fr/par/5584   \n",
       "17     Département  http://id.eaufrance.fr/par/1670   \n",
       "\n",
       "                   uri_territoire  \n",
       "3   http://id.eaufrance.fr/dep/60  \n",
       "7   http://id.eaufrance.fr/dep/30  \n",
       "10  http://id.eaufrance.fr/dep/53  \n",
       "15  http://id.eaufrance.fr/dep/38  \n",
       "17  http://id.eaufrance.fr/dep/69  "
      ]
     },
     "execution_count": 6,
     "metadata": {},
     "output_type": "execute_result"
    }
   ],
   "source": [
    "df_cmr.head()"
   ]
  },
  {
   "cell_type": "code",
   "execution_count": 7,
   "id": "32e750cc-5bd5-4a24-a8fc-0ba04b33b312",
   "metadata": {},
   "outputs": [],
   "source": [
    "# Conservation des colonnes utiles pour la base de données. \n",
    "df_cmr = df_cmr[[\"amm\", \"annee\", \"classification_mention\", \"code_cas\", \"code_substance\", \"code_territoire\", \"fonction\", \"libelle_substance\", \"quantite\"]]"
   ]
  },
  {
   "cell_type": "code",
   "execution_count": 8,
   "id": "8c8e9fef-8ece-4675-a9c9-80ae8d9864f7",
   "metadata": {},
   "outputs": [],
   "source": [
    "df_cmr = df_cmr.reset_index(drop=True)"
   ]
  },
  {
   "cell_type": "code",
   "execution_count": 9,
   "id": "dd05e188-1126-4997-ad23-abaeb8cc23d9",
   "metadata": {},
   "outputs": [
    {
     "data": {
      "text/plain": [
       "276855"
      ]
     },
     "execution_count": 9,
     "metadata": {},
     "output_type": "execute_result"
    }
   ],
   "source": [
    "# Je vais maintenant supprimer les départements ayant le code territoire 0, \n",
    "# représentant une erreur dans la saisie. \n",
    "len(df_cmr)"
   ]
  },
  {
   "cell_type": "code",
   "execution_count": 10,
   "id": "91a20424-44a0-4d71-9bf9-a07c5fe769a3",
   "metadata": {},
   "outputs": [
    {
     "data": {
      "text/plain": [
       "np.int64(0)"
      ]
     },
     "execution_count": 10,
     "metadata": {},
     "output_type": "execute_result"
    }
   ],
   "source": [
    "(df_cmr[\"code_territoire\"] == \"0\").sum()"
   ]
  },
  {
   "cell_type": "code",
   "execution_count": 11,
   "id": "11012bea-96ba-480e-8863-0446fd69bba6",
   "metadata": {},
   "outputs": [],
   "source": [
    "df_cmr = df_cmr[df_cmr[\"code_territoire\"] != \"0\"]"
   ]
  },
  {
   "cell_type": "code",
   "execution_count": 12,
   "id": "e4a7e111-b07e-4b71-b022-d8033be35e90",
   "metadata": {},
   "outputs": [
    {
     "data": {
      "text/plain": [
       "276855"
      ]
     },
     "execution_count": 12,
     "metadata": {},
     "output_type": "execute_result"
    }
   ],
   "source": [
    "len(df_cmr)"
   ]
  },
  {
   "cell_type": "code",
   "execution_count": 13,
   "id": "6c72856a-3f15-45dc-97f1-1f98e45c4823",
   "metadata": {},
   "outputs": [
    {
     "name": "stdout",
     "output_type": "stream",
     "text": [
      "<class 'pandas.core.frame.DataFrame'>\n",
      "RangeIndex: 276855 entries, 0 to 276854\n",
      "Data columns (total 9 columns):\n",
      " #   Column                  Non-Null Count   Dtype  \n",
      "---  ------                  --------------   -----  \n",
      " 0   amm                     276855 non-null  object \n",
      " 1   annee                   276855 non-null  int64  \n",
      " 2   classification_mention  183267 non-null  object \n",
      " 3   code_cas                276855 non-null  object \n",
      " 4   code_substance          271724 non-null  object \n",
      " 5   code_territoire         276855 non-null  object \n",
      " 6   fonction                276855 non-null  object \n",
      " 7   libelle_substance       276855 non-null  object \n",
      " 8   quantite                276855 non-null  float64\n",
      "dtypes: float64(1), int64(1), object(7)\n",
      "memory usage: 19.0+ MB\n"
     ]
    }
   ],
   "source": [
    "df_cmr.info()"
   ]
  },
  {
   "cell_type": "code",
   "execution_count": 14,
   "id": "76ab9d54-ec4c-4154-8aa2-691a6c169d2c",
   "metadata": {},
   "outputs": [],
   "source": [
    "# Je vais maintenant convertir les codes en int et changer les noms pour\n",
    "# les rendre plus compréhensibles\n",
    "\n",
    "colonnes_entiers = [\"amm\", \"code_substance\"] \n",
    "for col in colonnes_entiers:\n",
    "    df_cmr[col] = pd.to_numeric(df_cmr[col], errors=\"coerce\").astype(\"Int64\")\n"
   ]
  },
  {
   "cell_type": "code",
   "execution_count": 15,
   "id": "af89c75b-f669-4557-8175-d1f7dc42ab3c",
   "metadata": {},
   "outputs": [
    {
     "name": "stdout",
     "output_type": "stream",
     "text": [
      "<class 'pandas.core.frame.DataFrame'>\n",
      "RangeIndex: 276855 entries, 0 to 276854\n",
      "Data columns (total 9 columns):\n",
      " #   Column                  Non-Null Count   Dtype  \n",
      "---  ------                  --------------   -----  \n",
      " 0   amm                     276855 non-null  Int64  \n",
      " 1   annee                   276855 non-null  int64  \n",
      " 2   classification_mention  183267 non-null  object \n",
      " 3   code_cas                276855 non-null  object \n",
      " 4   code_substance          271724 non-null  Int64  \n",
      " 5   code_territoire         276855 non-null  object \n",
      " 6   fonction                276855 non-null  object \n",
      " 7   libelle_substance       276855 non-null  object \n",
      " 8   quantite                276855 non-null  float64\n",
      "dtypes: Int64(2), float64(1), int64(1), object(5)\n",
      "memory usage: 19.5+ MB\n"
     ]
    }
   ],
   "source": [
    "df_cmr.info()"
   ]
  },
  {
   "cell_type": "code",
   "execution_count": 16,
   "id": "d74ec659-2336-4db8-a83a-03d7180b47d2",
   "metadata": {},
   "outputs": [
    {
     "data": {
      "text/html": [
       "<div>\n",
       "<style scoped>\n",
       "    .dataframe tbody tr th:only-of-type {\n",
       "        vertical-align: middle;\n",
       "    }\n",
       "\n",
       "    .dataframe tbody tr th {\n",
       "        vertical-align: top;\n",
       "    }\n",
       "\n",
       "    .dataframe thead th {\n",
       "        text-align: right;\n",
       "    }\n",
       "</style>\n",
       "<table border=\"1\" class=\"dataframe\">\n",
       "  <thead>\n",
       "    <tr style=\"text-align: right;\">\n",
       "      <th></th>\n",
       "      <th>amm</th>\n",
       "      <th>annee</th>\n",
       "      <th>classification_mention</th>\n",
       "      <th>code_cas</th>\n",
       "      <th>code_substance</th>\n",
       "      <th>num_département</th>\n",
       "      <th>fonction</th>\n",
       "      <th>nom_substance</th>\n",
       "      <th>quantite_en_kg</th>\n",
       "    </tr>\n",
       "  </thead>\n",
       "  <tbody>\n",
       "    <tr>\n",
       "      <th>0</th>\n",
       "      <td>2110191</td>\n",
       "      <td>2023</td>\n",
       "      <td>None</td>\n",
       "      <td>119446-68-3</td>\n",
       "      <td>1905</td>\n",
       "      <td>60</td>\n",
       "      <td>Fongicide</td>\n",
       "      <td>difenoconazole</td>\n",
       "      <td>3527.60</td>\n",
       "    </tr>\n",
       "    <tr>\n",
       "      <th>1</th>\n",
       "      <td>8700020</td>\n",
       "      <td>2023</td>\n",
       "      <td>Exclusion</td>\n",
       "      <td>61213-25-0</td>\n",
       "      <td>1675</td>\n",
       "      <td>30</td>\n",
       "      <td>Herbicide</td>\n",
       "      <td>flurochloridone</td>\n",
       "      <td>131.25</td>\n",
       "    </tr>\n",
       "    <tr>\n",
       "      <th>2</th>\n",
       "      <td>2160198</td>\n",
       "      <td>2023</td>\n",
       "      <td>None</td>\n",
       "      <td>107534-96-3</td>\n",
       "      <td>1694</td>\n",
       "      <td>53</td>\n",
       "      <td>Fongicide</td>\n",
       "      <td>tebuconazole</td>\n",
       "      <td>11.25</td>\n",
       "    </tr>\n",
       "    <tr>\n",
       "      <th>3</th>\n",
       "      <td>7400755</td>\n",
       "      <td>2023</td>\n",
       "      <td>None</td>\n",
       "      <td>86-87-3</td>\n",
       "      <td>5584</td>\n",
       "      <td>38</td>\n",
       "      <td>Régulateur de croissance</td>\n",
       "      <td>acide alpha naphtylacetique (ana)</td>\n",
       "      <td>6.05</td>\n",
       "    </tr>\n",
       "    <tr>\n",
       "      <th>4</th>\n",
       "      <td>2140110</td>\n",
       "      <td>2023</td>\n",
       "      <td>None</td>\n",
       "      <td>67129-08-2</td>\n",
       "      <td>1670</td>\n",
       "      <td>69</td>\n",
       "      <td>Herbicide</td>\n",
       "      <td>metazachlore</td>\n",
       "      <td>2.00</td>\n",
       "    </tr>\n",
       "  </tbody>\n",
       "</table>\n",
       "</div>"
      ],
      "text/plain": [
       "       amm  annee classification_mention     code_cas  code_substance  \\\n",
       "0  2110191   2023                   None  119446-68-3            1905   \n",
       "1  8700020   2023              Exclusion   61213-25-0            1675   \n",
       "2  2160198   2023                   None  107534-96-3            1694   \n",
       "3  7400755   2023                   None      86-87-3            5584   \n",
       "4  2140110   2023                   None   67129-08-2            1670   \n",
       "\n",
       "  num_département                  fonction  \\\n",
       "0              60                 Fongicide   \n",
       "1              30                 Herbicide   \n",
       "2              53                 Fongicide   \n",
       "3              38  Régulateur de croissance   \n",
       "4              69                 Herbicide   \n",
       "\n",
       "                       nom_substance  quantite_en_kg  \n",
       "0                     difenoconazole         3527.60  \n",
       "1                    flurochloridone          131.25  \n",
       "2                       tebuconazole           11.25  \n",
       "3  acide alpha naphtylacetique (ana)            6.05  \n",
       "4                       metazachlore            2.00  "
      ]
     },
     "execution_count": 16,
     "metadata": {},
     "output_type": "execute_result"
    }
   ],
   "source": [
    "df_cmr = df_cmr.rename(columns={\n",
    "    \"code_territoire\": \"num_département\",\n",
    "    \"libelle_substance\" : \"nom_substance\",\n",
    "    \"quantite\": \"quantite_en_kg\",\n",
    "})\n",
    "\n",
    "df_cmr.head()"
   ]
  },
  {
   "cell_type": "markdown",
   "id": "9c083ead-8bf9-4f51-8b55-c1dcdc23446e",
   "metadata": {},
   "source": [
    "Une fois les réglages effectués, on passe au script python qui va enregistrer en base de données. \n",
    "Lancer le script Insertion_data.py"
   ]
  },
  {
   "cell_type": "code",
   "execution_count": 17,
   "id": "337ba100-a4cd-446b-aac9-3e094f3ef240",
   "metadata": {},
   "outputs": [
    {
     "name": "stdout",
     "output_type": "stream",
     "text": [
      "classification_mention : VARCHAR(12)\n",
      "code_cas : VARCHAR(11)\n",
      "num_département : VARCHAR(3)\n",
      "fonction : VARCHAR(56)\n",
      "nom_substance : VARCHAR(66)\n"
     ]
    }
   ],
   "source": [
    "for col in df_cmr.select_dtypes(include=\"object\").columns:\n",
    "    max_len = df_cmr[col].astype(str).str.len().max()\n",
    "    print(f\"{col} : VARCHAR({max_len})\")\n"
   ]
  },
  {
   "cell_type": "code",
   "execution_count": 18,
   "id": "b71b4061-4389-4e85-b515-aac59fac8d59",
   "metadata": {},
   "outputs": [
    {
     "name": "stdout",
     "output_type": "stream",
     "text": [
      "amm : INTEGER (min=2000003, max=9900446, digits=7)\n",
      "annee : INTEGER (min=2013, max=2023, digits=4)\n",
      "code_substance : INTEGER (min=1083, max=8744, digits=4)\n"
     ]
    }
   ],
   "source": [
    "for col in df_cmr.select_dtypes(include=\"int\").columns:\n",
    "    max_val = df_cmr[col].max()\n",
    "    min_val = df_cmr[col].min()\n",
    "    max_digits = max(len(str(abs(max_val))), len(str(abs(min_val))))\n",
    "    print(f\"{col} : INTEGER (min={min_val}, max={max_val}, digits={max_digits})\")\n"
   ]
  },
  {
   "cell_type": "code",
   "execution_count": 19,
   "id": "348a253f-0a46-4e17-8c7a-17db1851fb48",
   "metadata": {},
   "outputs": [
    {
     "name": "stdout",
     "output_type": "stream",
     "text": [
      "quantite_en_kg : NUMERIC(12, 6) (min=0.0, max=364377.24)\n"
     ]
    }
   ],
   "source": [
    "for col in df_cmr.select_dtypes(include=\"float\").columns:\n",
    "    max_val = df_cmr[col].max()\n",
    "    min_val = df_cmr[col].min()\n",
    "\n",
    "    def count_digits(val):\n",
    "        if pd.isna(val):\n",
    "            return (0, 0)\n",
    "        parts = f\"{val:.10f}\".rstrip(\"0\").split(\".\")\n",
    "        return (len(parts[0]), len(parts[1]) if len(parts) > 1 else 0)\n",
    "\n",
    "    entiers, decimales = zip(*df_cmr[col].dropna().map(count_digits))\n",
    "\n",
    "    print(f\"{col} : NUMERIC({max(entiers)+max(decimales)}, {max(decimales)}) \"\n",
    "          f\"(min={min_val}, max={max_val})\")\n"
   ]
  },
  {
   "cell_type": "code",
   "execution_count": 20,
   "id": "176f2d7a-61ee-4a11-ac28-52dc17c0b596",
   "metadata": {},
   "outputs": [
    {
     "data": {
      "text/plain": [
       "num_département\n",
       "17     4427\n",
       "51     4364\n",
       "59     4165\n",
       "02     4064\n",
       "10     4039\n",
       "       ... \n",
       "974     295\n",
       "972     107\n",
       "971     104\n",
       "973      65\n",
       "976      37\n",
       "Name: count, Length: 102, dtype: int64"
      ]
     },
     "execution_count": 20,
     "metadata": {},
     "output_type": "execute_result"
    }
   ],
   "source": [
    "df_cmr[\"num_département\"].value_counts()"
   ]
  },
  {
   "cell_type": "code",
   "execution_count": null,
   "id": "3284d539-561d-4db1-9840-ebc3c547a952",
   "metadata": {},
   "outputs": [],
   "source": []
  }
 ],
 "metadata": {
  "kernelspec": {
   "display_name": "Python 3 (ipykernel)",
   "language": "python",
   "name": "python3"
  },
  "language_info": {
   "codemirror_mode": {
    "name": "ipython",
    "version": 3
   },
   "file_extension": ".py",
   "mimetype": "text/x-python",
   "name": "python",
   "nbconvert_exporter": "python",
   "pygments_lexer": "ipython3",
   "version": "3.12.5"
  }
 },
 "nbformat": 4,
 "nbformat_minor": 5
}
