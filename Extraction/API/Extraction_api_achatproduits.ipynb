{
 "cells": [
  {
   "cell_type": "code",
   "execution_count": 1,
   "id": "2810dd31-60f6-4c1f-b2bd-54c3bd67cede",
   "metadata": {},
   "outputs": [],
   "source": [
    "import requests\n",
    "import pandas as pd\n",
    "from sqlalchemy import create_engine\n",
    "from tqdm.notebook import tqdm\n",
    "import time"
   ]
  },
  {
   "cell_type": "code",
   "execution_count": 2,
   "id": "01c90af4-5029-4d17-a976-49c2fb9ab3e2",
   "metadata": {},
   "outputs": [],
   "source": [
    "# Le début des relevés est 2013. \n",
    "\n",
    "def get_all_data():\n",
    "    base_url = \"https://hubeau.eaufrance.fr/api/v1/vente_achat_phyto/achats/produits\"\n",
    "    params = {\n",
    "        \"type_territoire\": \"Département\",\n",
    "        \"annee_min\": 2012,\n",
    "        \"annee_max\": 2026,\n",
    "        \"size\": 20000,\n",
    "        \"page\": 1\n",
    "    }\n",
    "\n",
    "    all_data = []\n",
    "\n",
    "    print(\" Accès à l'API en cours... Veuillez patienter.\")\n",
    "    \n",
    "    start_time = time.time()\n",
    "    \n",
    "    while True:\n",
    "        response = requests.get(base_url, params=params)\n",
    "        response.raise_for_status()\n",
    "        data_page = response.json().get(\"data\", [])\n",
    "        \n",
    "        if not data_page:\n",
    "            break\n",
    "        \n",
    "        all_data.extend(data_page)\n",
    "        params[\"page\"] += 1\n",
    "\n",
    "        \n",
    "    end_time = time.time()\n",
    "    duration = end_time - start_time\n",
    "\n",
    "    print(f\"Nombre de fichiers récupérés :{len(all_data)}\")\n",
    "    return pd.DataFrame(all_data)\n"
   ]
  },
  {
   "cell_type": "code",
   "execution_count": 3,
   "id": "68638a7b-61a1-4be3-846e-c7565d203725",
   "metadata": {},
   "outputs": [
    {
     "name": "stdout",
     "output_type": "stream",
     "text": [
      " Accès à l'API en cours... Veuillez patienter.\n",
      "Nombre de fichiers récupérés :909394\n"
     ]
    }
   ],
   "source": [
    "df = get_all_data()"
   ]
  },
  {
   "cell_type": "code",
   "execution_count": 4,
   "id": "c6da10fd-b880-4109-b412-a40001143c02",
   "metadata": {},
   "outputs": [
    {
     "data": {
      "text/html": [
       "<div>\n",
       "<style scoped>\n",
       "    .dataframe tbody tr th:only-of-type {\n",
       "        vertical-align: middle;\n",
       "    }\n",
       "\n",
       "    .dataframe tbody tr th {\n",
       "        vertical-align: top;\n",
       "    }\n",
       "\n",
       "    .dataframe thead th {\n",
       "        text-align: right;\n",
       "    }\n",
       "</style>\n",
       "<table border=\"1\" class=\"dataframe\">\n",
       "  <thead>\n",
       "    <tr style=\"text-align: right;\">\n",
       "      <th></th>\n",
       "      <th>achat_etranger</th>\n",
       "      <th>annee</th>\n",
       "      <th>amm</th>\n",
       "      <th>code_territoire</th>\n",
       "      <th>eaj</th>\n",
       "      <th>libelle_territoire</th>\n",
       "      <th>type_territoire</th>\n",
       "      <th>uri_territoire</th>\n",
       "      <th>quantite</th>\n",
       "      <th>unite</th>\n",
       "    </tr>\n",
       "  </thead>\n",
       "  <tbody>\n",
       "    <tr>\n",
       "      <th>0</th>\n",
       "      <td>Non</td>\n",
       "      <td>2023</td>\n",
       "      <td>2130242</td>\n",
       "      <td>78</td>\n",
       "      <td>Non</td>\n",
       "      <td>YVELINES</td>\n",
       "      <td>Département</td>\n",
       "      <td>http://id.eaufrance.fr/dep/78</td>\n",
       "      <td>1014.00</td>\n",
       "      <td>l</td>\n",
       "    </tr>\n",
       "    <tr>\n",
       "      <th>1</th>\n",
       "      <td>Non</td>\n",
       "      <td>2023</td>\n",
       "      <td>2110178</td>\n",
       "      <td>24</td>\n",
       "      <td>Non</td>\n",
       "      <td>DORDOGNE</td>\n",
       "      <td>Département</td>\n",
       "      <td>http://id.eaufrance.fr/dep/24</td>\n",
       "      <td>40.00</td>\n",
       "      <td>l</td>\n",
       "    </tr>\n",
       "    <tr>\n",
       "      <th>2</th>\n",
       "      <td>Non</td>\n",
       "      <td>2023</td>\n",
       "      <td>9300257</td>\n",
       "      <td>69</td>\n",
       "      <td>Non</td>\n",
       "      <td>RHONE</td>\n",
       "      <td>Département</td>\n",
       "      <td>http://id.eaufrance.fr/dep/69</td>\n",
       "      <td>60.64</td>\n",
       "      <td>l</td>\n",
       "    </tr>\n",
       "    <tr>\n",
       "      <th>3</th>\n",
       "      <td>Non</td>\n",
       "      <td>2023</td>\n",
       "      <td>2140252</td>\n",
       "      <td>2B</td>\n",
       "      <td>Oui</td>\n",
       "      <td>HAUTE-CORSE</td>\n",
       "      <td>Département</td>\n",
       "      <td>http://id.eaufrance.fr/dep/2B</td>\n",
       "      <td>122.45</td>\n",
       "      <td>kg</td>\n",
       "    </tr>\n",
       "    <tr>\n",
       "      <th>4</th>\n",
       "      <td>Non</td>\n",
       "      <td>2023</td>\n",
       "      <td>2150790</td>\n",
       "      <td>49</td>\n",
       "      <td>Oui</td>\n",
       "      <td>MAINE-ET-LOIRE</td>\n",
       "      <td>Département</td>\n",
       "      <td>http://id.eaufrance.fr/dep/49</td>\n",
       "      <td>866.55</td>\n",
       "      <td>kg</td>\n",
       "    </tr>\n",
       "  </tbody>\n",
       "</table>\n",
       "</div>"
      ],
      "text/plain": [
       "  achat_etranger  annee      amm code_territoire  eaj libelle_territoire  \\\n",
       "0            Non   2023  2130242              78  Non           YVELINES   \n",
       "1            Non   2023  2110178              24  Non           DORDOGNE   \n",
       "2            Non   2023  9300257              69  Non              RHONE   \n",
       "3            Non   2023  2140252              2B  Oui        HAUTE-CORSE   \n",
       "4            Non   2023  2150790              49  Oui     MAINE-ET-LOIRE   \n",
       "\n",
       "  type_territoire                 uri_territoire  quantite unite  \n",
       "0     Département  http://id.eaufrance.fr/dep/78   1014.00     l  \n",
       "1     Département  http://id.eaufrance.fr/dep/24     40.00     l  \n",
       "2     Département  http://id.eaufrance.fr/dep/69     60.64     l  \n",
       "3     Département  http://id.eaufrance.fr/dep/2B    122.45    kg  \n",
       "4     Département  http://id.eaufrance.fr/dep/49    866.55    kg  "
      ]
     },
     "execution_count": 4,
     "metadata": {},
     "output_type": "execute_result"
    }
   ],
   "source": [
    "df.head()"
   ]
  },
  {
   "cell_type": "code",
   "execution_count": 23,
   "id": "7f22be82-d447-4a8e-a157-d6473e434927",
   "metadata": {},
   "outputs": [],
   "source": [
    "#conservation des colonnes utiles pour augmenter la lisibilité. \n",
    "df_propre = df[[\"amm\",\"annee\",\"code_territoire\",\"eaj\",\"quantite\", \"unite\"]]"
   ]
  },
  {
   "cell_type": "code",
   "execution_count": 24,
   "id": "1e6efc8e-6940-49a5-8f1f-df3788a0a1c5",
   "metadata": {},
   "outputs": [
    {
     "data": {
      "text/html": [
       "<div>\n",
       "<style scoped>\n",
       "    .dataframe tbody tr th:only-of-type {\n",
       "        vertical-align: middle;\n",
       "    }\n",
       "\n",
       "    .dataframe tbody tr th {\n",
       "        vertical-align: top;\n",
       "    }\n",
       "\n",
       "    .dataframe thead th {\n",
       "        text-align: right;\n",
       "    }\n",
       "</style>\n",
       "<table border=\"1\" class=\"dataframe\">\n",
       "  <thead>\n",
       "    <tr style=\"text-align: right;\">\n",
       "      <th></th>\n",
       "      <th>amm</th>\n",
       "      <th>annee</th>\n",
       "      <th>code_territoire</th>\n",
       "      <th>eaj</th>\n",
       "      <th>quantite</th>\n",
       "      <th>unite</th>\n",
       "    </tr>\n",
       "  </thead>\n",
       "  <tbody>\n",
       "    <tr>\n",
       "      <th>0</th>\n",
       "      <td>2130242</td>\n",
       "      <td>2023</td>\n",
       "      <td>78</td>\n",
       "      <td>Non</td>\n",
       "      <td>1014.00</td>\n",
       "      <td>l</td>\n",
       "    </tr>\n",
       "    <tr>\n",
       "      <th>1</th>\n",
       "      <td>2110178</td>\n",
       "      <td>2023</td>\n",
       "      <td>24</td>\n",
       "      <td>Non</td>\n",
       "      <td>40.00</td>\n",
       "      <td>l</td>\n",
       "    </tr>\n",
       "    <tr>\n",
       "      <th>2</th>\n",
       "      <td>9300257</td>\n",
       "      <td>2023</td>\n",
       "      <td>69</td>\n",
       "      <td>Non</td>\n",
       "      <td>60.64</td>\n",
       "      <td>l</td>\n",
       "    </tr>\n",
       "    <tr>\n",
       "      <th>3</th>\n",
       "      <td>2140252</td>\n",
       "      <td>2023</td>\n",
       "      <td>2B</td>\n",
       "      <td>Oui</td>\n",
       "      <td>122.45</td>\n",
       "      <td>kg</td>\n",
       "    </tr>\n",
       "    <tr>\n",
       "      <th>4</th>\n",
       "      <td>2150790</td>\n",
       "      <td>2023</td>\n",
       "      <td>49</td>\n",
       "      <td>Oui</td>\n",
       "      <td>866.55</td>\n",
       "      <td>kg</td>\n",
       "    </tr>\n",
       "  </tbody>\n",
       "</table>\n",
       "</div>"
      ],
      "text/plain": [
       "       amm  annee code_territoire  eaj  quantite unite\n",
       "0  2130242   2023              78  Non   1014.00     l\n",
       "1  2110178   2023              24  Non     40.00     l\n",
       "2  9300257   2023              69  Non     60.64     l\n",
       "3  2140252   2023              2B  Oui    122.45    kg\n",
       "4  2150790   2023              49  Oui    866.55    kg"
      ]
     },
     "execution_count": 24,
     "metadata": {},
     "output_type": "execute_result"
    }
   ],
   "source": [
    "df_propre.head()"
   ]
  },
  {
   "cell_type": "code",
   "execution_count": 25,
   "id": "173f1e9e-ebdd-4d61-9305-8b490e0d417c",
   "metadata": {},
   "outputs": [
    {
     "data": {
      "text/plain": [
       "909394"
      ]
     },
     "execution_count": 25,
     "metadata": {},
     "output_type": "execute_result"
    }
   ],
   "source": [
    "# Je vais maintenant supprimer les départements ayant le code territoire 0, \n",
    "# représentant une erreur dans la saisie. \n",
    "len(df_propre)"
   ]
  },
  {
   "cell_type": "code",
   "execution_count": 26,
   "id": "2bc1c2e7-cafd-445e-a9e2-658de266caf7",
   "metadata": {},
   "outputs": [
    {
     "data": {
      "text/plain": [
       "np.int64(13182)"
      ]
     },
     "execution_count": 26,
     "metadata": {},
     "output_type": "execute_result"
    }
   ],
   "source": [
    "(df_propre[\"code_territoire\"] == \"00\").sum()"
   ]
  },
  {
   "cell_type": "code",
   "execution_count": 29,
   "id": "92f3edf8-74fa-4ffd-abf1-07446521308a",
   "metadata": {},
   "outputs": [],
   "source": [
    "df_propre = df_propre[df_propre[\"code_territoire\"] != \"00\"]"
   ]
  },
  {
   "cell_type": "code",
   "execution_count": 30,
   "id": "93b7ad5b-b5cb-486f-8c4b-2d723cefa89c",
   "metadata": {},
   "outputs": [
    {
     "data": {
      "text/plain": [
       "896212"
      ]
     },
     "execution_count": 30,
     "metadata": {},
     "output_type": "execute_result"
    }
   ],
   "source": [
    "len(df_propre)"
   ]
  },
  {
   "cell_type": "code",
   "execution_count": 31,
   "id": "f111c822-ba95-4163-9ed9-a96eaf03988d",
   "metadata": {},
   "outputs": [
    {
     "name": "stdout",
     "output_type": "stream",
     "text": [
      "<class 'pandas.core.frame.DataFrame'>\n",
      "Index: 896212 entries, 0 to 909393\n",
      "Data columns (total 6 columns):\n",
      " #   Column           Non-Null Count   Dtype  \n",
      "---  ------           --------------   -----  \n",
      " 0   amm              896212 non-null  object \n",
      " 1   annee            896212 non-null  int64  \n",
      " 2   code_territoire  896212 non-null  object \n",
      " 3   eaj              896212 non-null  object \n",
      " 4   quantite         896212 non-null  float64\n",
      " 5   unite            896212 non-null  object \n",
      "dtypes: float64(1), int64(1), object(4)\n",
      "memory usage: 47.9+ MB\n"
     ]
    }
   ],
   "source": [
    "# Je vais maintenant convertir les codes en int et changer les noms pour\n",
    "# les rendre plus compréhensibles\n",
    "df_propre.info()"
   ]
  },
  {
   "cell_type": "code",
   "execution_count": 12,
   "id": "72aaa932-9e5c-4261-ac48-fc31a0a3acfc",
   "metadata": {},
   "outputs": [
    {
     "data": {
      "text/html": [
       "<div>\n",
       "<style scoped>\n",
       "    .dataframe tbody tr th:only-of-type {\n",
       "        vertical-align: middle;\n",
       "    }\n",
       "\n",
       "    .dataframe tbody tr th {\n",
       "        vertical-align: top;\n",
       "    }\n",
       "\n",
       "    .dataframe thead th {\n",
       "        text-align: right;\n",
       "    }\n",
       "</style>\n",
       "<table border=\"1\" class=\"dataframe\">\n",
       "  <thead>\n",
       "    <tr style=\"text-align: right;\">\n",
       "      <th></th>\n",
       "      <th>amm</th>\n",
       "      <th>annee</th>\n",
       "      <th>num_département</th>\n",
       "      <th>autorise_jardin</th>\n",
       "      <th>quantite_en_kg</th>\n",
       "      <th>unite</th>\n",
       "    </tr>\n",
       "  </thead>\n",
       "  <tbody>\n",
       "    <tr>\n",
       "      <th>0</th>\n",
       "      <td>2130242</td>\n",
       "      <td>2023</td>\n",
       "      <td>78</td>\n",
       "      <td>Non</td>\n",
       "      <td>1014.00</td>\n",
       "      <td>l</td>\n",
       "    </tr>\n",
       "    <tr>\n",
       "      <th>1</th>\n",
       "      <td>2110178</td>\n",
       "      <td>2023</td>\n",
       "      <td>24</td>\n",
       "      <td>Non</td>\n",
       "      <td>40.00</td>\n",
       "      <td>l</td>\n",
       "    </tr>\n",
       "    <tr>\n",
       "      <th>2</th>\n",
       "      <td>9300257</td>\n",
       "      <td>2023</td>\n",
       "      <td>69</td>\n",
       "      <td>Non</td>\n",
       "      <td>60.64</td>\n",
       "      <td>l</td>\n",
       "    </tr>\n",
       "    <tr>\n",
       "      <th>3</th>\n",
       "      <td>2140252</td>\n",
       "      <td>2023</td>\n",
       "      <td>2B</td>\n",
       "      <td>Oui</td>\n",
       "      <td>122.45</td>\n",
       "      <td>kg</td>\n",
       "    </tr>\n",
       "    <tr>\n",
       "      <th>4</th>\n",
       "      <td>2150790</td>\n",
       "      <td>2023</td>\n",
       "      <td>49</td>\n",
       "      <td>Oui</td>\n",
       "      <td>866.55</td>\n",
       "      <td>kg</td>\n",
       "    </tr>\n",
       "  </tbody>\n",
       "</table>\n",
       "</div>"
      ],
      "text/plain": [
       "       amm  annee num_département autorise_jardin  quantite_en_kg unite\n",
       "0  2130242   2023              78             Non         1014.00     l\n",
       "1  2110178   2023              24             Non           40.00     l\n",
       "2  9300257   2023              69             Non           60.64     l\n",
       "3  2140252   2023              2B             Oui          122.45    kg\n",
       "4  2150790   2023              49             Oui          866.55    kg"
      ]
     },
     "execution_count": 12,
     "metadata": {},
     "output_type": "execute_result"
    }
   ],
   "source": [
    "df_propre = df_propre.rename(columns={\n",
    "    \"code_territoire\": \"num_département\",\n",
    "    \"eaj\" : \"autorise_jardin\",\n",
    "    \"quantite\": \"quantite_en_kg\",\n",
    "})\n",
    "\n",
    "df_propre.head()"
   ]
  },
  {
   "cell_type": "code",
   "execution_count": 13,
   "id": "3f4ac786-2267-4a7e-a31a-c5fed3e91713",
   "metadata": {},
   "outputs": [],
   "source": [
    "colonnes_entiers = [\"amm\"] \n",
    "for col in colonnes_entiers:\n",
    "    df_propre[col] = pd.to_numeric(df_propre[col], errors=\"coerce\").astype(\"Int64\")"
   ]
  },
  {
   "cell_type": "code",
   "execution_count": 14,
   "id": "a9c01e54-7439-4bca-b330-8ab32fba64c2",
   "metadata": {},
   "outputs": [
    {
     "name": "stdout",
     "output_type": "stream",
     "text": [
      "<class 'pandas.core.frame.DataFrame'>\n",
      "RangeIndex: 909394 entries, 0 to 909393\n",
      "Data columns (total 6 columns):\n",
      " #   Column           Non-Null Count   Dtype  \n",
      "---  ------           --------------   -----  \n",
      " 0   amm              909394 non-null  Int64  \n",
      " 1   annee            909394 non-null  int64  \n",
      " 2   num_département  909394 non-null  object \n",
      " 3   autorise_jardin  909394 non-null  object \n",
      " 4   quantite_en_kg   909394 non-null  float64\n",
      " 5   unite            909394 non-null  object \n",
      "dtypes: Int64(1), float64(1), int64(1), object(3)\n",
      "memory usage: 42.5+ MB\n"
     ]
    }
   ],
   "source": [
    "df_propre.info()"
   ]
  },
  {
   "cell_type": "markdown",
   "id": "883c685e-84bb-45cd-8036-3d29ed8e597e",
   "metadata": {},
   "source": [
    "Une fois les réglages effectués, on passe au script python qui va enregistrer en base de données. Lancer le script Insertion_data.py"
   ]
  },
  {
   "cell_type": "code",
   "execution_count": 15,
   "id": "c7bbefd5-f1b0-4620-822b-55a7b05b0019",
   "metadata": {},
   "outputs": [
    {
     "name": "stdout",
     "output_type": "stream",
     "text": [
      "num_département : VARCHAR(3)\n",
      "autorise_jardin : VARCHAR(3)\n",
      "unite : VARCHAR(2)\n"
     ]
    }
   ],
   "source": [
    "for col in df_propre.select_dtypes(include=\"object\").columns:\n",
    "    max_len = df_propre[col].astype(str).str.len().max()\n",
    "    print(f\"{col} : VARCHAR({max_len})\")\n"
   ]
  },
  {
   "cell_type": "code",
   "execution_count": 16,
   "id": "d6c138a0-27b9-40d5-a12a-331dbdd616d2",
   "metadata": {},
   "outputs": [
    {
     "name": "stdout",
     "output_type": "stream",
     "text": [
      "amm : INTEGER (min=1030003, max=9900452, digits=7)\n",
      "annee : INTEGER (min=2013, max=2023, digits=4)\n"
     ]
    }
   ],
   "source": [
    "for col in df_propre.select_dtypes(include=\"int\").columns:\n",
    "    max_val = df_propre[col].max()\n",
    "    min_val = df_propre[col].min()\n",
    "    max_digits = max(len(str(abs(max_val))), len(str(abs(min_val))))\n",
    "    print(f\"{col} : INTEGER (min={min_val}, max={max_val}, digits={max_digits})\")\n"
   ]
  },
  {
   "cell_type": "code",
   "execution_count": 17,
   "id": "52d28c93-e11e-43ee-9fb7-7e0c6b1d03fe",
   "metadata": {},
   "outputs": [
    {
     "name": "stdout",
     "output_type": "stream",
     "text": [
      "quantite_en_kg : NUMERIC(16, 10) (min=0.0, max=878975.0)\n"
     ]
    }
   ],
   "source": [
    "for col in df_propre.select_dtypes(include=\"float\").columns:\n",
    "    max_val = df_propre[col].max()\n",
    "    min_val = df_propre[col].min()\n",
    "\n",
    "    def count_digits(val):\n",
    "        if pd.isna(val):\n",
    "            return (0, 0)\n",
    "        parts = f\"{val:.10f}\".rstrip(\"0\").split(\".\")\n",
    "        return (len(parts[0]), len(parts[1]) if len(parts) > 1 else 0)\n",
    "\n",
    "    entiers, decimales = zip(*df_propre[col].dropna().map(count_digits))\n",
    "\n",
    "    print(f\"{col} : NUMERIC({max(entiers)+max(decimales)}, {max(decimales)}) \"\n",
    "          f\"(min={min_val}, max={max_val})\")\n"
   ]
  },
  {
   "cell_type": "code",
   "execution_count": 21,
   "id": "52732334-371c-4e1f-90a5-b5872477ba99",
   "metadata": {
    "scrolled": true
   },
   "outputs": [
    {
     "name": "stdout",
     "output_type": "stream",
     "text": [
      "num_département\n",
      "17     13634\n",
      "51     13546\n",
      "00     13182\n",
      "49     13169\n",
      "59     13041\n",
      "       ...  \n",
      "974     1075\n",
      "971      366\n",
      "972      363\n",
      "973      197\n",
      "976      179\n",
      "Name: count, Length: 102, dtype: int64\n"
     ]
    }
   ],
   "source": [
    "print(df_propre[\"num_département\"].value_counts())"
   ]
  },
  {
   "cell_type": "code",
   "execution_count": null,
   "id": "52dca51a-00af-4cd5-84da-c8cbb26b0374",
   "metadata": {},
   "outputs": [],
   "source": []
  }
 ],
 "metadata": {
  "kernelspec": {
   "display_name": "Python 3 (ipykernel)",
   "language": "python",
   "name": "python3"
  },
  "language_info": {
   "codemirror_mode": {
    "name": "ipython",
    "version": 3
   },
   "file_extension": ".py",
   "mimetype": "text/x-python",
   "name": "python",
   "nbconvert_exporter": "python",
   "pygments_lexer": "ipython3",
   "version": "3.12.5"
  }
 },
 "nbformat": 4,
 "nbformat_minor": 5
}
