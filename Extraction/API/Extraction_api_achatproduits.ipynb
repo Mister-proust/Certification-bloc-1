{
 "cells": [
  {
   "cell_type": "code",
   "execution_count": 1,
   "id": "2810dd31-60f6-4c1f-b2bd-54c3bd67cede",
   "metadata": {},
   "outputs": [],
   "source": [
    "import requests\n",
    "import pandas as pd\n",
    "from sqlalchemy import create_engine\n",
    "from tqdm.notebook import tqdm\n",
    "import time"
   ]
  },
  {
   "cell_type": "code",
   "execution_count": 2,
   "id": "01c90af4-5029-4d17-a976-49c2fb9ab3e2",
   "metadata": {},
   "outputs": [],
   "source": [
    "# Le début des relevés est 2013. \n",
    "\n",
    "def get_all_data():\n",
    "    base_url = \"https://hubeau.eaufrance.fr/api/v1/vente_achat_phyto/achats/produits\"\n",
    "    params = {\n",
    "        \"type_territoire\": \"Département\",\n",
    "        \"annee_min\": 2012,\n",
    "        \"annee_max\": 2013,\n",
    "        \"size\": 1000,\n",
    "        \"page\": 1\n",
    "    }\n",
    "\n",
    "    all_data = []\n",
    "\n",
    "    print(\" Accès à l'API en cours... Veuillez patienter.\")\n",
    "    \n",
    "    start_time = time.time()\n",
    "    \n",
    "    while True:\n",
    "        response = requests.get(base_url, params=params)\n",
    "        response.raise_for_status()\n",
    "        data_page = response.json().get(\"data\", [])\n",
    "        \n",
    "        if not data_page:\n",
    "            break\n",
    "        \n",
    "        all_data.extend(data_page)\n",
    "        params[\"page\"] += 1\n",
    "\n",
    "        \n",
    "    end_time = time.time()\n",
    "    duration = end_time - start_time\n",
    "\n",
    "    print(f\"Nombre de fichiers récupérés :{len(all_data)}\")\n",
    "    return pd.DataFrame(all_data)\n"
   ]
  },
  {
   "cell_type": "code",
   "execution_count": 3,
   "id": "68638a7b-61a1-4be3-846e-c7565d203725",
   "metadata": {},
   "outputs": [
    {
     "name": "stdout",
     "output_type": "stream",
     "text": [
      " Accès à l'API en cours... Veuillez patienter.\n",
      "Nombre de fichiers récupérés :64459\n"
     ]
    }
   ],
   "source": [
    "df = get_all_data()"
   ]
  },
  {
   "cell_type": "code",
   "execution_count": 6,
   "id": "c6da10fd-b880-4109-b412-a40001143c02",
   "metadata": {},
   "outputs": [
    {
     "data": {
      "text/html": [
       "<div>\n",
       "<style scoped>\n",
       "    .dataframe tbody tr th:only-of-type {\n",
       "        vertical-align: middle;\n",
       "    }\n",
       "\n",
       "    .dataframe tbody tr th {\n",
       "        vertical-align: top;\n",
       "    }\n",
       "\n",
       "    .dataframe thead th {\n",
       "        text-align: right;\n",
       "    }\n",
       "</style>\n",
       "<table border=\"1\" class=\"dataframe\">\n",
       "  <thead>\n",
       "    <tr style=\"text-align: right;\">\n",
       "      <th></th>\n",
       "      <th>achat_etranger</th>\n",
       "      <th>annee</th>\n",
       "      <th>amm</th>\n",
       "      <th>code_territoire</th>\n",
       "      <th>eaj</th>\n",
       "      <th>libelle_territoire</th>\n",
       "      <th>type_territoire</th>\n",
       "      <th>uri_territoire</th>\n",
       "      <th>quantite</th>\n",
       "      <th>unite</th>\n",
       "    </tr>\n",
       "  </thead>\n",
       "  <tbody>\n",
       "    <tr>\n",
       "      <th>0</th>\n",
       "      <td>Non</td>\n",
       "      <td>2013</td>\n",
       "      <td>2020346</td>\n",
       "      <td>79</td>\n",
       "      <td>Non</td>\n",
       "      <td>DEUX-SEVRES</td>\n",
       "      <td>Département</td>\n",
       "      <td>http://id.eaufrance.fr/dep/79</td>\n",
       "      <td>109.0</td>\n",
       "      <td>l</td>\n",
       "    </tr>\n",
       "    <tr>\n",
       "      <th>1</th>\n",
       "      <td>Non</td>\n",
       "      <td>2013</td>\n",
       "      <td>2010502</td>\n",
       "      <td>84</td>\n",
       "      <td>Non</td>\n",
       "      <td>VAUCLUSE</td>\n",
       "      <td>Département</td>\n",
       "      <td>http://id.eaufrance.fr/dep/84</td>\n",
       "      <td>13.0</td>\n",
       "      <td>l</td>\n",
       "    </tr>\n",
       "    <tr>\n",
       "      <th>2</th>\n",
       "      <td>Non</td>\n",
       "      <td>2013</td>\n",
       "      <td>2030011</td>\n",
       "      <td>13</td>\n",
       "      <td>Non</td>\n",
       "      <td>BOUCHES-DU-RHONE</td>\n",
       "      <td>Département</td>\n",
       "      <td>http://id.eaufrance.fr/dep/13</td>\n",
       "      <td>1.0</td>\n",
       "      <td>l</td>\n",
       "    </tr>\n",
       "    <tr>\n",
       "      <th>3</th>\n",
       "      <td>Non</td>\n",
       "      <td>2013</td>\n",
       "      <td>2010612</td>\n",
       "      <td>32</td>\n",
       "      <td>Oui</td>\n",
       "      <td>GERS</td>\n",
       "      <td>Département</td>\n",
       "      <td>http://id.eaufrance.fr/dep/32</td>\n",
       "      <td>9660.0</td>\n",
       "      <td>l</td>\n",
       "    </tr>\n",
       "    <tr>\n",
       "      <th>4</th>\n",
       "      <td>Non</td>\n",
       "      <td>2013</td>\n",
       "      <td>2010633</td>\n",
       "      <td>47</td>\n",
       "      <td>Non</td>\n",
       "      <td>LOT-ET-GARONNE</td>\n",
       "      <td>Département</td>\n",
       "      <td>http://id.eaufrance.fr/dep/47</td>\n",
       "      <td>110.0</td>\n",
       "      <td>l</td>\n",
       "    </tr>\n",
       "  </tbody>\n",
       "</table>\n",
       "</div>"
      ],
      "text/plain": [
       "  achat_etranger  annee      amm code_territoire  eaj libelle_territoire  \\\n",
       "0            Non   2013  2020346              79  Non        DEUX-SEVRES   \n",
       "1            Non   2013  2010502              84  Non           VAUCLUSE   \n",
       "2            Non   2013  2030011              13  Non   BOUCHES-DU-RHONE   \n",
       "3            Non   2013  2010612              32  Oui               GERS   \n",
       "4            Non   2013  2010633              47  Non     LOT-ET-GARONNE   \n",
       "\n",
       "  type_territoire                 uri_territoire  quantite unite  \n",
       "0     Département  http://id.eaufrance.fr/dep/79     109.0     l  \n",
       "1     Département  http://id.eaufrance.fr/dep/84      13.0     l  \n",
       "2     Département  http://id.eaufrance.fr/dep/13       1.0     l  \n",
       "3     Département  http://id.eaufrance.fr/dep/32    9660.0     l  \n",
       "4     Département  http://id.eaufrance.fr/dep/47     110.0     l  "
      ]
     },
     "execution_count": 6,
     "metadata": {},
     "output_type": "execute_result"
    }
   ],
   "source": [
    "df.head()"
   ]
  },
  {
   "cell_type": "code",
   "execution_count": 7,
   "id": "7f22be82-d447-4a8e-a157-d6473e434927",
   "metadata": {},
   "outputs": [],
   "source": [
    "#conservation des colonnes utiles pour augmenter la lisibilité. \n",
    "df_propre = df[[\"amm\",\"annee\",\"code_territoire\",\"eaj\",\"libelle_territoire\",\"quantite\", \"unite\"]]"
   ]
  },
  {
   "cell_type": "code",
   "execution_count": 8,
   "id": "1e6efc8e-6940-49a5-8f1f-df3788a0a1c5",
   "metadata": {},
   "outputs": [
    {
     "data": {
      "text/html": [
       "<div>\n",
       "<style scoped>\n",
       "    .dataframe tbody tr th:only-of-type {\n",
       "        vertical-align: middle;\n",
       "    }\n",
       "\n",
       "    .dataframe tbody tr th {\n",
       "        vertical-align: top;\n",
       "    }\n",
       "\n",
       "    .dataframe thead th {\n",
       "        text-align: right;\n",
       "    }\n",
       "</style>\n",
       "<table border=\"1\" class=\"dataframe\">\n",
       "  <thead>\n",
       "    <tr style=\"text-align: right;\">\n",
       "      <th></th>\n",
       "      <th>amm</th>\n",
       "      <th>annee</th>\n",
       "      <th>code_territoire</th>\n",
       "      <th>eaj</th>\n",
       "      <th>libelle_territoire</th>\n",
       "      <th>quantite</th>\n",
       "      <th>unite</th>\n",
       "    </tr>\n",
       "  </thead>\n",
       "  <tbody>\n",
       "    <tr>\n",
       "      <th>0</th>\n",
       "      <td>2020346</td>\n",
       "      <td>2013</td>\n",
       "      <td>79</td>\n",
       "      <td>Non</td>\n",
       "      <td>DEUX-SEVRES</td>\n",
       "      <td>109.0</td>\n",
       "      <td>l</td>\n",
       "    </tr>\n",
       "    <tr>\n",
       "      <th>1</th>\n",
       "      <td>2010502</td>\n",
       "      <td>2013</td>\n",
       "      <td>84</td>\n",
       "      <td>Non</td>\n",
       "      <td>VAUCLUSE</td>\n",
       "      <td>13.0</td>\n",
       "      <td>l</td>\n",
       "    </tr>\n",
       "    <tr>\n",
       "      <th>2</th>\n",
       "      <td>2030011</td>\n",
       "      <td>2013</td>\n",
       "      <td>13</td>\n",
       "      <td>Non</td>\n",
       "      <td>BOUCHES-DU-RHONE</td>\n",
       "      <td>1.0</td>\n",
       "      <td>l</td>\n",
       "    </tr>\n",
       "    <tr>\n",
       "      <th>3</th>\n",
       "      <td>2010612</td>\n",
       "      <td>2013</td>\n",
       "      <td>32</td>\n",
       "      <td>Oui</td>\n",
       "      <td>GERS</td>\n",
       "      <td>9660.0</td>\n",
       "      <td>l</td>\n",
       "    </tr>\n",
       "    <tr>\n",
       "      <th>4</th>\n",
       "      <td>2010633</td>\n",
       "      <td>2013</td>\n",
       "      <td>47</td>\n",
       "      <td>Non</td>\n",
       "      <td>LOT-ET-GARONNE</td>\n",
       "      <td>110.0</td>\n",
       "      <td>l</td>\n",
       "    </tr>\n",
       "  </tbody>\n",
       "</table>\n",
       "</div>"
      ],
      "text/plain": [
       "       amm  annee code_territoire  eaj libelle_territoire  quantite unite\n",
       "0  2020346   2013              79  Non        DEUX-SEVRES     109.0     l\n",
       "1  2010502   2013              84  Non           VAUCLUSE      13.0     l\n",
       "2  2030011   2013              13  Non   BOUCHES-DU-RHONE       1.0     l\n",
       "3  2010612   2013              32  Oui               GERS    9660.0     l\n",
       "4  2010633   2013              47  Non     LOT-ET-GARONNE     110.0     l"
      ]
     },
     "execution_count": 8,
     "metadata": {},
     "output_type": "execute_result"
    }
   ],
   "source": [
    "df_propre.head()"
   ]
  },
  {
   "cell_type": "code",
   "execution_count": 13,
   "id": "173f1e9e-ebdd-4d61-9305-8b490e0d417c",
   "metadata": {},
   "outputs": [
    {
     "data": {
      "text/plain": [
       "64459"
      ]
     },
     "execution_count": 13,
     "metadata": {},
     "output_type": "execute_result"
    }
   ],
   "source": [
    "# Je vais maintenant supprimer les départements ayant le code territoire 0, \n",
    "# représentant une erreur dans la saisie. \n",
    "len(df_propre)"
   ]
  },
  {
   "cell_type": "code",
   "execution_count": 15,
   "id": "2bc1c2e7-cafd-445e-a9e2-658de266caf7",
   "metadata": {},
   "outputs": [
    {
     "data": {
      "text/plain": [
       "np.int64(0)"
      ]
     },
     "execution_count": 15,
     "metadata": {},
     "output_type": "execute_result"
    }
   ],
   "source": [
    "(df_propre[\"code_territoire\"] == \"0\").sum()"
   ]
  },
  {
   "cell_type": "code",
   "execution_count": 16,
   "id": "92f3edf8-74fa-4ffd-abf1-07446521308a",
   "metadata": {},
   "outputs": [],
   "source": [
    "df_propre = df_propre[df_propre[\"code_territoire\"] != \"0\"]"
   ]
  },
  {
   "cell_type": "code",
   "execution_count": 17,
   "id": "93b7ad5b-b5cb-486f-8c4b-2d723cefa89c",
   "metadata": {},
   "outputs": [
    {
     "data": {
      "text/plain": [
       "64459"
      ]
     },
     "execution_count": 17,
     "metadata": {},
     "output_type": "execute_result"
    }
   ],
   "source": [
    "len(df_propre)"
   ]
  },
  {
   "cell_type": "code",
   "execution_count": 18,
   "id": "f111c822-ba95-4163-9ed9-a96eaf03988d",
   "metadata": {},
   "outputs": [
    {
     "name": "stdout",
     "output_type": "stream",
     "text": [
      "<class 'pandas.core.frame.DataFrame'>\n",
      "RangeIndex: 64459 entries, 0 to 64458\n",
      "Data columns (total 7 columns):\n",
      " #   Column              Non-Null Count  Dtype  \n",
      "---  ------              --------------  -----  \n",
      " 0   amm                 64459 non-null  object \n",
      " 1   annee               64459 non-null  int64  \n",
      " 2   code_territoire     64459 non-null  object \n",
      " 3   eaj                 64459 non-null  object \n",
      " 4   libelle_territoire  64459 non-null  object \n",
      " 5   quantite            64459 non-null  float64\n",
      " 6   unite               64459 non-null  object \n",
      "dtypes: float64(1), int64(1), object(5)\n",
      "memory usage: 3.4+ MB\n"
     ]
    }
   ],
   "source": [
    "# Je vais maintenant convertir les codes en int et changer les noms pour\n",
    "# les rendre plus compréhensibles\n",
    "df_propre.info()"
   ]
  },
  {
   "cell_type": "code",
   "execution_count": 20,
   "id": "72aaa932-9e5c-4261-ac48-fc31a0a3acfc",
   "metadata": {},
   "outputs": [
    {
     "data": {
      "text/html": [
       "<div>\n",
       "<style scoped>\n",
       "    .dataframe tbody tr th:only-of-type {\n",
       "        vertical-align: middle;\n",
       "    }\n",
       "\n",
       "    .dataframe tbody tr th {\n",
       "        vertical-align: top;\n",
       "    }\n",
       "\n",
       "    .dataframe thead th {\n",
       "        text-align: right;\n",
       "    }\n",
       "</style>\n",
       "<table border=\"1\" class=\"dataframe\">\n",
       "  <thead>\n",
       "    <tr style=\"text-align: right;\">\n",
       "      <th></th>\n",
       "      <th>amm</th>\n",
       "      <th>annee</th>\n",
       "      <th>num_département</th>\n",
       "      <th>autorise_jardin</th>\n",
       "      <th>département</th>\n",
       "      <th>quantite_en_kg</th>\n",
       "      <th>unite</th>\n",
       "    </tr>\n",
       "  </thead>\n",
       "  <tbody>\n",
       "    <tr>\n",
       "      <th>0</th>\n",
       "      <td>2020346</td>\n",
       "      <td>2013</td>\n",
       "      <td>79</td>\n",
       "      <td>Non</td>\n",
       "      <td>DEUX-SEVRES</td>\n",
       "      <td>109.0</td>\n",
       "      <td>l</td>\n",
       "    </tr>\n",
       "    <tr>\n",
       "      <th>1</th>\n",
       "      <td>2010502</td>\n",
       "      <td>2013</td>\n",
       "      <td>84</td>\n",
       "      <td>Non</td>\n",
       "      <td>VAUCLUSE</td>\n",
       "      <td>13.0</td>\n",
       "      <td>l</td>\n",
       "    </tr>\n",
       "    <tr>\n",
       "      <th>2</th>\n",
       "      <td>2030011</td>\n",
       "      <td>2013</td>\n",
       "      <td>13</td>\n",
       "      <td>Non</td>\n",
       "      <td>BOUCHES-DU-RHONE</td>\n",
       "      <td>1.0</td>\n",
       "      <td>l</td>\n",
       "    </tr>\n",
       "    <tr>\n",
       "      <th>3</th>\n",
       "      <td>2010612</td>\n",
       "      <td>2013</td>\n",
       "      <td>32</td>\n",
       "      <td>Oui</td>\n",
       "      <td>GERS</td>\n",
       "      <td>9660.0</td>\n",
       "      <td>l</td>\n",
       "    </tr>\n",
       "    <tr>\n",
       "      <th>4</th>\n",
       "      <td>2010633</td>\n",
       "      <td>2013</td>\n",
       "      <td>47</td>\n",
       "      <td>Non</td>\n",
       "      <td>LOT-ET-GARONNE</td>\n",
       "      <td>110.0</td>\n",
       "      <td>l</td>\n",
       "    </tr>\n",
       "  </tbody>\n",
       "</table>\n",
       "</div>"
      ],
      "text/plain": [
       "       amm  annee num_département autorise_jardin       département  \\\n",
       "0  2020346   2013              79             Non       DEUX-SEVRES   \n",
       "1  2010502   2013              84             Non          VAUCLUSE   \n",
       "2  2030011   2013              13             Non  BOUCHES-DU-RHONE   \n",
       "3  2010612   2013              32             Oui              GERS   \n",
       "4  2010633   2013              47             Non    LOT-ET-GARONNE   \n",
       "\n",
       "   quantite_en_kg unite  \n",
       "0           109.0     l  \n",
       "1            13.0     l  \n",
       "2             1.0     l  \n",
       "3          9660.0     l  \n",
       "4           110.0     l  "
      ]
     },
     "execution_count": 20,
     "metadata": {},
     "output_type": "execute_result"
    }
   ],
   "source": [
    "df_propre = df_propre.rename(columns={\n",
    "    \"code_territoire\": \"num_département\",\n",
    "    \"libelle_territoire\": \"département\",\n",
    "    \"eaj\" : \"autorise_jardin\",\n",
    "    \"quantite\": \"quantite_en_kg\",\n",
    "})\n",
    "\n",
    "df_propre.head()"
   ]
  },
  {
   "cell_type": "code",
   "execution_count": 22,
   "id": "3f4ac786-2267-4a7e-a31a-c5fed3e91713",
   "metadata": {},
   "outputs": [],
   "source": [
    "colonnes_entiers = [\"amm\", \"num_département\"] \n",
    "for col in colonnes_entiers:\n",
    "    df_propre[col] = pd.to_numeric(df_propre[col], errors=\"coerce\").astype(\"Int64\")"
   ]
  },
  {
   "cell_type": "code",
   "execution_count": 24,
   "id": "a9c01e54-7439-4bca-b330-8ab32fba64c2",
   "metadata": {},
   "outputs": [
    {
     "name": "stdout",
     "output_type": "stream",
     "text": [
      "<class 'pandas.core.frame.DataFrame'>\n",
      "RangeIndex: 64459 entries, 0 to 64458\n",
      "Data columns (total 7 columns):\n",
      " #   Column           Non-Null Count  Dtype  \n",
      "---  ------           --------------  -----  \n",
      " 0   amm              64459 non-null  Int64  \n",
      " 1   annee            64459 non-null  int64  \n",
      " 2   num_département  64304 non-null  Int64  \n",
      " 3   autorise_jardin  64459 non-null  object \n",
      " 4   département      64459 non-null  object \n",
      " 5   quantite_en_kg   64459 non-null  float64\n",
      " 6   unite            64459 non-null  object \n",
      "dtypes: Int64(2), float64(1), int64(1), object(3)\n",
      "memory usage: 3.6+ MB\n"
     ]
    }
   ],
   "source": [
    "df_propre.info()"
   ]
  },
  {
   "cell_type": "markdown",
   "id": "883c685e-84bb-45cd-8036-3d29ed8e597e",
   "metadata": {},
   "source": [
    "Une fois les réglages effectués, on passe au script python qui va enregistrer en base de données. Lancer le script Insertion_data.py"
   ]
  },
  {
   "cell_type": "code",
   "execution_count": null,
   "id": "c7bbefd5-f1b0-4620-822b-55a7b05b0019",
   "metadata": {},
   "outputs": [],
   "source": []
  }
 ],
 "metadata": {
  "kernelspec": {
   "display_name": "Python 3 (ipykernel)",
   "language": "python",
   "name": "python3"
  },
  "language_info": {
   "codemirror_mode": {
    "name": "ipython",
    "version": 3
   },
   "file_extension": ".py",
   "mimetype": "text/x-python",
   "name": "python",
   "nbconvert_exporter": "python",
   "pygments_lexer": "ipython3",
   "version": "3.12.10"
  }
 },
 "nbformat": 4,
 "nbformat_minor": 5
}
