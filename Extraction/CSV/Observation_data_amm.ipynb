{
 "cells": [
  {
   "cell_type": "code",
   "execution_count": 1,
   "id": "8e247f0d-0750-4ebf-a5ff-f9e22edbc649",
   "metadata": {},
   "outputs": [],
   "source": [
    "import pandas as pd\n",
    "\n",
    "df = pd.read_csv(\"../../data/produits_utf8.csv\", sep=\";\")\n",
    "df_danger = pd.read_csv(\"../../data/produits_classe_et_mention_danger_utf8.csv\", sep=\";\")"
   ]
  },
  {
   "cell_type": "code",
   "execution_count": 3,
   "id": "82dd968a-31b4-42d9-8f17-a40ca1fca8f4",
   "metadata": {},
   "outputs": [],
   "source": [
    "df_danger = df_danger.drop(columns=[\"Unnamed: 4\"])\n",
    "\n",
    "df_danger= df_danger.rename(columns={\n",
    "    \"numero AMM\": \"amm\",\n",
    "    \"nom produit\" : \"Nom_produit\",\n",
    "    \"Libellé court\": \"Libellé_court\",\n",
    "    \"Libelle long\": \"Toxicite_produit\"\n",
    "      })"
   ]
  },
  {
   "cell_type": "code",
   "execution_count": 4,
   "id": "ba4ac2cd-d1ad-48b7-94b1-4f65d096fd50",
   "metadata": {},
   "outputs": [],
   "source": [
    "df = df.drop(columns=[\"type produit\"])\n",
    "df = df.drop(columns=[\"Unnamed: 18\"])\n",
    "\n",
    "df= df.rename(columns={\n",
    "    \"numero AMM\": \"amm\",\n",
    "    \"nom produit\" : \"Nom_produit\",\n",
    "    \"seconds noms commerciaux\" : \"Second_noms_commerciaux\",\n",
    "    \"type commercial\" : \"Type_commercial\",\n",
    "    \"gamme usage\" : \"Gamme_usage\",\n",
    "    \"mentions autorisees\" : \"Mentions_autorisees\",\n",
    "    \"restrictions usage\" : \"Restrictions_usage\", \n",
    "    \"restrictions usage libelle\" : \"Restrictions_usage_libelle\",\n",
    "    \"Substances actives\" : \"Substances_actives\",\n",
    "    \"fonctions\" : \"Fonctions\",\n",
    "    \"formulations\" : \"Formulations\",\n",
    "    \"Etat d'autorisation\" : \"Etat_d_autorisation\",\n",
    "    \"Date de retrait du produit\" : \"Date_de_retrait\",\n",
    "    \"Date de première autorisation\" : \"Date_première_autorisation\",\n",
    "    \"Numéro AMM du produit de référence\" : \"Numero_AMM_reference\",\n",
    "    \"Nom du produit de référence\" : \"Nom_produit_reference\"\n",
    "      })"
   ]
  },
  {
   "cell_type": "code",
   "execution_count": 7,
   "id": "f811fa04-34ea-448a-8dbf-7e8c7c39a2d2",
   "metadata": {},
   "outputs": [],
   "source": [
    "def parse_date_safe(date_str):\n",
    "    try:\n",
    "        return pd.to_datetime(date_str, dayfirst=True).date()\n",
    "    except Exception:\n",
    "        return None\n",
    "\n",
    "df[\"Date_première_autorisation\"] = df[\"Date_première_autorisation\"].apply(parse_date_safe)\n",
    "df[\"Date_de_retrait\"] = df[\"Date_de_retrait\"].apply(parse_date_safe)\n",
    "df = df.where(pd.notnull(df), None)"
   ]
  },
  {
   "cell_type": "code",
   "execution_count": 13,
   "id": "4978fb22-892c-493b-9415-d3104e2df450",
   "metadata": {},
   "outputs": [],
   "source": [
    "df['amm'] = pd.to_numeric(df['amm'], errors='coerce')  \n",
    "df = df.dropna(subset=['amm'])                         \n",
    "df['amm'] = df['amm'].astype(int)                   \n"
   ]
  },
  {
   "cell_type": "code",
   "execution_count": 15,
   "id": "32bd52ed-4a87-4fcd-9efc-780d7c083cfd",
   "metadata": {},
   "outputs": [
    {
     "name": "stdout",
     "output_type": "stream",
     "text": [
      "Nom_produit : VARCHAR(50)\n",
      "Second_noms_commerciaux : VARCHAR(241)\n",
      "titulaire : VARCHAR(79)\n",
      "Type_commercial : VARCHAR(20)\n",
      "Gamme_usage : VARCHAR(42)\n",
      "Mentions_autorisees : VARCHAR(121)\n",
      "Restrictions_usage : VARCHAR(58)\n",
      "Restrictions_usage_libelle : VARCHAR(510)\n",
      "Substances_actives : VARCHAR(490)\n",
      "Fonctions : VARCHAR(157)\n",
      "Formulations : VARCHAR(69)\n",
      "Etat d’autorisation : VARCHAR(8)\n",
      "Date_de_retrait : VARCHAR(10)\n",
      "Date_première_autorisation : VARCHAR(10)\n",
      "Numero_AMM_reference : VARCHAR(27)\n",
      "Nom_produit_reference : VARCHAR(87)\n"
     ]
    }
   ],
   "source": [
    "for col in df.select_dtypes(include=\"object\").columns:\n",
    "    max_len = df[col].astype(str).str.len().max()\n",
    "    print(f\"{col} : VARCHAR({max_len})\")\n"
   ]
  },
  {
   "cell_type": "code",
   "execution_count": 16,
   "id": "d5d262a3-2216-4b42-9dc5-394808c0c811",
   "metadata": {},
   "outputs": [
    {
     "name": "stdout",
     "output_type": "stream",
     "text": [
      "amm : INTEGER (min=1000011, max=9910016, digits=7)\n"
     ]
    }
   ],
   "source": [
    "for col in df.select_dtypes(include=\"int\").columns:\n",
    "    max_val = df[col].max()\n",
    "    min_val = df[col].min()\n",
    "    max_digits = max(len(str(abs(max_val))), len(str(abs(min_val))))\n",
    "    print(f\"{col} : INTEGER (min={min_val}, max={max_val}, digits={max_digits})\")\n"
   ]
  },
  {
   "cell_type": "code",
   "execution_count": 10,
   "id": "7335123f-1ff2-4334-b63a-2b957bbf6522",
   "metadata": {},
   "outputs": [],
   "source": [
    "for col in df.select_dtypes(include=\"float\").columns:\n",
    "    max_val = df[col].max()\n",
    "    min_val = df[col].min()\n",
    "\n",
    "    def count_digits(val):\n",
    "        if pd.isna(val):\n",
    "            return (0, 0)\n",
    "        parts = f\"{val:.10f}\".rstrip(\"0\").split(\".\")\n",
    "        return (len(parts[0]), len(parts[1]) if len(parts) > 1 else 0)\n",
    "\n",
    "    entiers, decimales = zip(*df[col].dropna().map(count_digits))\n",
    "\n",
    "    print(f\"{col} : NUMERIC({max(entiers)+max(decimales)}, {max(decimales)}) \"\n",
    "          f\"(min={min_val}, max={max_val})\")\n"
   ]
  },
  {
   "cell_type": "code",
   "execution_count": 20,
   "id": "bdba04ff-f7a2-4cc9-8867-f040c53535f5",
   "metadata": {},
   "outputs": [],
   "source": [
    "df_danger= df_danger.rename(columns={\n",
    "    \"numero AMM\": \"amm\",\n",
    "    \"nom produit\" : \"Nom_produit\",\n",
    "    \"Libellé court\": \"Libellé_court\",\n",
    "    \"Libelle long\": \"Toxicite_produit\"\n",
    "      })"
   ]
  },
  {
   "cell_type": "code",
   "execution_count": 21,
   "id": "dfcf1a5c-2b68-42e9-9d32-aa86410de5ad",
   "metadata": {},
   "outputs": [
    {
     "name": "stdout",
     "output_type": "stream",
     "text": [
      "Nom_produit : VARCHAR(42)\n",
      "Libellé_court : VARCHAR(18)\n",
      "Libellé long : VARCHAR(134)\n"
     ]
    }
   ],
   "source": [
    "for col in df_danger.select_dtypes(include=\"object\").columns:\n",
    "    max_len = df_danger[col].astype(str).str.len().max()\n",
    "    print(f\"{col} : VARCHAR({max_len})\")\n"
   ]
  },
  {
   "cell_type": "code",
   "execution_count": 22,
   "id": "bb06d559-8753-49ec-a5d4-03bc88a6013c",
   "metadata": {},
   "outputs": [
    {
     "name": "stdout",
     "output_type": "stream",
     "text": [
      "amm : INTEGER (min=2000001, max=9900446, digits=7)\n"
     ]
    }
   ],
   "source": [
    "for col in df_danger.select_dtypes(include=\"int\").columns:\n",
    "    max_val = df_danger[col].max()\n",
    "    min_val = df_danger[col].min()\n",
    "    max_digits = max(len(str(abs(max_val))), len(str(abs(min_val))))\n",
    "    print(f\"{col} : INTEGER (min={min_val}, max={max_val}, digits={max_digits})\")\n"
   ]
  },
  {
   "cell_type": "code",
   "execution_count": null,
   "id": "c0d90a87-321b-4de2-b0ef-ab19e5f4e4bf",
   "metadata": {},
   "outputs": [],
   "source": []
  }
 ],
 "metadata": {
  "kernelspec": {
   "display_name": "Python 3 (ipykernel)",
   "language": "python",
   "name": "python3"
  },
  "language_info": {
   "codemirror_mode": {
    "name": "ipython",
    "version": 3
   },
   "file_extension": ".py",
   "mimetype": "text/x-python",
   "name": "python",
   "nbconvert_exporter": "python",
   "pygments_lexer": "ipython3",
   "version": "3.12.11"
  }
 },
 "nbformat": 4,
 "nbformat_minor": 5
}
