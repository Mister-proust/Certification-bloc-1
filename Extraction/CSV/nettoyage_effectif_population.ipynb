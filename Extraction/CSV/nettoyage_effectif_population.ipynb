{
 "cells": [
  {
   "cell_type": "code",
   "execution_count": 2,
   "id": "6527337f-7483-4a4d-81c7-424ee4dc3063",
   "metadata": {},
   "outputs": [],
   "source": [
    "import pandas as pd\n",
    "\n",
    "df = pd.read_csv(\"../../data/eff_pop.csv\", sep=\";\")\n",
    "df_metadata = pd.read_csv(\"../../data/metadata_eff_pop.csv\", sep=\";\")"
   ]
  },
  {
   "cell_type": "code",
   "execution_count": 3,
   "id": "de0218c3-a6e0-4aa4-ab57-961c38ac4e5f",
   "metadata": {
    "scrolled": true
   },
   "outputs": [
    {
     "data": {
      "text/html": [
       "<div>\n",
       "<style scoped>\n",
       "    .dataframe tbody tr th:only-of-type {\n",
       "        vertical-align: middle;\n",
       "    }\n",
       "\n",
       "    .dataframe tbody tr th {\n",
       "        vertical-align: top;\n",
       "    }\n",
       "\n",
       "    .dataframe thead th {\n",
       "        text-align: right;\n",
       "    }\n",
       "</style>\n",
       "<table border=\"1\" class=\"dataframe\">\n",
       "  <thead>\n",
       "    <tr style=\"text-align: right;\">\n",
       "      <th></th>\n",
       "      <th>GEO</th>\n",
       "      <th>GEO_OBJECT</th>\n",
       "      <th>SEX</th>\n",
       "      <th>AGE</th>\n",
       "      <th>EP_MEASURE</th>\n",
       "      <th>OBS_STATUS_FR</th>\n",
       "      <th>TIME_PERIOD</th>\n",
       "      <th>OBS_VALUE</th>\n",
       "    </tr>\n",
       "  </thead>\n",
       "  <tbody>\n",
       "    <tr>\n",
       "      <th>0</th>\n",
       "      <td>78</td>\n",
       "      <td>DEP</td>\n",
       "      <td>M</td>\n",
       "      <td>Y50T54</td>\n",
       "      <td>POP</td>\n",
       "      <td>D</td>\n",
       "      <td>2007</td>\n",
       "      <td>44919.0</td>\n",
       "    </tr>\n",
       "    <tr>\n",
       "      <th>1</th>\n",
       "      <td>85</td>\n",
       "      <td>DEP</td>\n",
       "      <td>M</td>\n",
       "      <td>Y60T64</td>\n",
       "      <td>POP</td>\n",
       "      <td>D</td>\n",
       "      <td>2007</td>\n",
       "      <td>15680.0</td>\n",
       "    </tr>\n",
       "    <tr>\n",
       "      <th>2</th>\n",
       "      <td>82</td>\n",
       "      <td>DEP</td>\n",
       "      <td>F</td>\n",
       "      <td>Y15T19</td>\n",
       "      <td>POP</td>\n",
       "      <td>D</td>\n",
       "      <td>2007</td>\n",
       "      <td>6516.0</td>\n",
       "    </tr>\n",
       "    <tr>\n",
       "      <th>3</th>\n",
       "      <td>79</td>\n",
       "      <td>DEP</td>\n",
       "      <td>_T</td>\n",
       "      <td>Y25T29</td>\n",
       "      <td>POP</td>\n",
       "      <td>D</td>\n",
       "      <td>2007</td>\n",
       "      <td>19285.0</td>\n",
       "    </tr>\n",
       "    <tr>\n",
       "      <th>4</th>\n",
       "      <td>62</td>\n",
       "      <td>DEP</td>\n",
       "      <td>F</td>\n",
       "      <td>Y_LT5</td>\n",
       "      <td>POP</td>\n",
       "      <td>D</td>\n",
       "      <td>2007</td>\n",
       "      <td>47222.0</td>\n",
       "    </tr>\n",
       "  </tbody>\n",
       "</table>\n",
       "</div>"
      ],
      "text/plain": [
       "  GEO GEO_OBJECT SEX     AGE EP_MEASURE OBS_STATUS_FR  TIME_PERIOD  OBS_VALUE\n",
       "0  78        DEP   M  Y50T54        POP             D         2007    44919.0\n",
       "1  85        DEP   M  Y60T64        POP             D         2007    15680.0\n",
       "2  82        DEP   F  Y15T19        POP             D         2007     6516.0\n",
       "3  79        DEP  _T  Y25T29        POP             D         2007    19285.0\n",
       "4  62        DEP   F   Y_LT5        POP             D         2007    47222.0"
      ]
     },
     "execution_count": 3,
     "metadata": {},
     "output_type": "execute_result"
    }
   ],
   "source": [
    "df.head()"
   ]
  },
  {
   "cell_type": "code",
   "execution_count": 4,
   "id": "fbd26e9e-3b22-490a-9474-5481ab408f8a",
   "metadata": {},
   "outputs": [
    {
     "name": "stdout",
     "output_type": "stream",
     "text": [
      "<class 'pandas.core.frame.DataFrame'>\n",
      "RangeIndex: 272973 entries, 0 to 272972\n",
      "Data columns (total 8 columns):\n",
      " #   Column         Non-Null Count   Dtype  \n",
      "---  ------         --------------   -----  \n",
      " 0   GEO            272973 non-null  object \n",
      " 1   GEO_OBJECT     272973 non-null  object \n",
      " 2   SEX            272973 non-null  object \n",
      " 3   AGE            272973 non-null  object \n",
      " 4   EP_MEASURE     272973 non-null  object \n",
      " 5   OBS_STATUS_FR  272973 non-null  object \n",
      " 6   TIME_PERIOD    272973 non-null  int64  \n",
      " 7   OBS_VALUE      272973 non-null  float64\n",
      "dtypes: float64(1), int64(1), object(6)\n",
      "memory usage: 16.7+ MB\n"
     ]
    }
   ],
   "source": [
    "df.info()"
   ]
  },
  {
   "cell_type": "code",
   "execution_count": 5,
   "id": "13992712-2112-4122-b606-76158dd2c25d",
   "metadata": {},
   "outputs": [
    {
     "data": {
      "text/html": [
       "<div>\n",
       "<style scoped>\n",
       "    .dataframe tbody tr th:only-of-type {\n",
       "        vertical-align: middle;\n",
       "    }\n",
       "\n",
       "    .dataframe tbody tr th {\n",
       "        vertical-align: top;\n",
       "    }\n",
       "\n",
       "    .dataframe thead th {\n",
       "        text-align: right;\n",
       "    }\n",
       "</style>\n",
       "<table border=\"1\" class=\"dataframe\">\n",
       "  <thead>\n",
       "    <tr style=\"text-align: right;\">\n",
       "      <th></th>\n",
       "      <th>COD_VAR</th>\n",
       "      <th>LIB_VAR</th>\n",
       "      <th>COD_MOD</th>\n",
       "      <th>LIB_MOD</th>\n",
       "    </tr>\n",
       "  </thead>\n",
       "  <tbody>\n",
       "    <tr>\n",
       "      <th>0</th>\n",
       "      <td>AGE</td>\n",
       "      <td>Âge</td>\n",
       "      <td>Y_LT20</td>\n",
       "      <td>Moins de 20 ans</td>\n",
       "    </tr>\n",
       "    <tr>\n",
       "      <th>1</th>\n",
       "      <td>AGE</td>\n",
       "      <td>Âge</td>\n",
       "      <td>Y20T39</td>\n",
       "      <td>De 20 à 39 ans</td>\n",
       "    </tr>\n",
       "    <tr>\n",
       "      <th>2</th>\n",
       "      <td>AGE</td>\n",
       "      <td>Âge</td>\n",
       "      <td>Y40T59</td>\n",
       "      <td>De 40 à 59 ans</td>\n",
       "    </tr>\n",
       "    <tr>\n",
       "      <th>3</th>\n",
       "      <td>AGE</td>\n",
       "      <td>Âge</td>\n",
       "      <td>Y60T74</td>\n",
       "      <td>De 60 à 74 ans</td>\n",
       "    </tr>\n",
       "    <tr>\n",
       "      <th>4</th>\n",
       "      <td>AGE</td>\n",
       "      <td>Âge</td>\n",
       "      <td>Y_GE75</td>\n",
       "      <td>75 ans ou plus</td>\n",
       "    </tr>\n",
       "  </tbody>\n",
       "</table>\n",
       "</div>"
      ],
      "text/plain": [
       "  COD_VAR LIB_VAR COD_MOD          LIB_MOD\n",
       "0     AGE     Âge  Y_LT20  Moins de 20 ans\n",
       "1     AGE     Âge  Y20T39   De 20 à 39 ans\n",
       "2     AGE     Âge  Y40T59   De 40 à 59 ans\n",
       "3     AGE     Âge  Y60T74   De 60 à 74 ans\n",
       "4     AGE     Âge  Y_GE75   75 ans ou plus"
      ]
     },
     "execution_count": 5,
     "metadata": {},
     "output_type": "execute_result"
    }
   ],
   "source": [
    "df_metadata.head()"
   ]
  },
  {
   "cell_type": "code",
   "execution_count": 6,
   "id": "988ebcd2-a65e-4634-87c7-d20ae1561618",
   "metadata": {},
   "outputs": [
    {
     "data": {
      "text/plain": [
       "EP_MEASURE\n",
       "POP                   272211\n",
       "PT_YGE65_IN_Y20T64       552\n",
       "AVERAGE                  105\n",
       "MEDAGE                   105\n",
       "Name: count, dtype: int64"
      ]
     },
     "execution_count": 6,
     "metadata": {},
     "output_type": "execute_result"
    }
   ],
   "source": [
    "df[\"EP_MEASURE\"].value_counts()"
   ]
  },
  {
   "cell_type": "code",
   "execution_count": 7,
   "id": "575e9be5-df35-4f18-94b4-854291de1494",
   "metadata": {},
   "outputs": [
    {
     "data": {
      "text/plain": [
       "GEO_OBJECT\n",
       "DEP       226221\n",
       "REG        39657\n",
       "FRANCE      4800\n",
       "OTHER       2295\n",
       "Name: count, dtype: int64"
      ]
     },
     "execution_count": 7,
     "metadata": {},
     "output_type": "execute_result"
    }
   ],
   "source": [
    "df[\"GEO_OBJECT\"].value_counts()"
   ]
  },
  {
   "cell_type": "code",
   "execution_count": 8,
   "id": "e188d392-e5e4-4151-b232-093179d2d7e3",
   "metadata": {},
   "outputs": [
    {
     "data": {
      "text/plain": [
       "COD_MOD\n",
       "_T          2\n",
       "F           2\n",
       "93          2\n",
       "94          2\n",
       "84          2\n",
       "           ..\n",
       "973         1\n",
       "974         1\n",
       "DOM         1\n",
       "976         1\n",
       "F_X_D976    1\n",
       "Name: count, Length: 175, dtype: int64"
      ]
     },
     "execution_count": 8,
     "metadata": {},
     "output_type": "execute_result"
    }
   ],
   "source": [
    "df_metadata[\"COD_MOD\"].value_counts()"
   ]
  },
  {
   "cell_type": "markdown",
   "id": "1b858298-19ee-4f6f-8c5b-dff74f761587",
   "metadata": {},
   "source": [
    "Des doublons imprévus..."
   ]
  },
  {
   "cell_type": "markdown",
   "id": "db812f42-74f6-4e88-8df4-7dd7891d5f33",
   "metadata": {},
   "source": [
    "Il est plus prudent de séparer ce fichier en plusieurs tables metadata. "
   ]
  },
  {
   "cell_type": "code",
   "execution_count": 11,
   "id": "1a69e215-ed6a-406b-9911-2d71a15f20c7",
   "metadata": {},
   "outputs": [],
   "source": [
    "df= df.rename(columns={\n",
    "    \"GEO\": \"Num_dep\",\n",
    "    \"SEX\" : \"Sexe\",\n",
    "    \"GEO_OBJECT\": \"Carac_dep\",\n",
    "    \"AGE\": \"Age\",\n",
    "    \"EP_MEASURE\": \"Carac_mesure\",\n",
    "    \"OBS_STATUS_FR\": \"Chiffre_def\",\n",
    "    \"TIME_PERIOD\": \"Annee\",\n",
    "    \"OBS_VALUE\": \"Effectif\" })"
   ]
  },
  {
   "cell_type": "code",
   "execution_count": 12,
   "id": "a01b6f65-94af-48be-96bb-f2ece5aadc7e",
   "metadata": {},
   "outputs": [
    {
     "name": "stdout",
     "output_type": "stream",
     "text": [
      "Num_dep : VARCHAR(8)\n",
      "Carac_dep : VARCHAR(6)\n",
      "Sexe : VARCHAR(2)\n",
      "Age : VARCHAR(6)\n",
      "Carac_mesure : VARCHAR(18)\n",
      "Chiffre_def : VARCHAR(4)\n"
     ]
    }
   ],
   "source": [
    "for col in df.select_dtypes(include=\"object\").columns:\n",
    "    max_len = df[col].astype(str).str.len().max()\n",
    "    print(f\"{col} : VARCHAR({max_len})\")\n"
   ]
  },
  {
   "cell_type": "code",
   "execution_count": 13,
   "id": "812825d3-dd56-4b28-bd71-4d396fe86114",
   "metadata": {},
   "outputs": [
    {
     "name": "stdout",
     "output_type": "stream",
     "text": [
      "Annee : INTEGER (min=1990, max=2025, digits=4)\n"
     ]
    }
   ],
   "source": [
    "for col in df.select_dtypes(include=\"int\").columns:\n",
    "    max_val = df[col].max()\n",
    "    min_val = df[col].min()\n",
    "    max_digits = max(len(str(abs(max_val))), len(str(abs(min_val))))\n",
    "    print(f\"{col} : INTEGER (min={min_val}, max={max_val}, digits={max_digits})\")\n"
   ]
  },
  {
   "cell_type": "code",
   "execution_count": 14,
   "id": "c8bcf458-440b-41f6-a93a-00f117fc503d",
   "metadata": {},
   "outputs": [
    {
     "name": "stdout",
     "output_type": "stream",
     "text": [
      "Effectif : NUMERIC(14, 6) (min=0.060784, max=68605616.0)\n"
     ]
    }
   ],
   "source": [
    "for col in df.select_dtypes(include=\"float\").columns:\n",
    "    max_val = df[col].max()\n",
    "    min_val = df[col].min()\n",
    "\n",
    "    def count_digits(val):\n",
    "        if pd.isna(val):\n",
    "            return (0, 0)\n",
    "        parts = f\"{val:.10f}\".rstrip(\"0\").split(\".\")\n",
    "        return (len(parts[0]), len(parts[1]) if len(parts) > 1 else 0)\n",
    "\n",
    "    entiers, decimales = zip(*df[col].dropna().map(count_digits))\n",
    "\n",
    "    print(f\"{col} : NUMERIC({max(entiers)+max(decimales)}, {max(decimales)}) \"\n",
    "          f\"(min={min_val}, max={max_val})\")\n"
   ]
  },
  {
   "cell_type": "code",
   "execution_count": null,
   "id": "9c1c2319-71d6-48b7-a626-797ce87fd47f",
   "metadata": {},
   "outputs": [],
   "source": []
  }
 ],
 "metadata": {
  "kernelspec": {
   "display_name": "Python 3 (ipykernel)",
   "language": "python",
   "name": "python3"
  },
  "language_info": {
   "codemirror_mode": {
    "name": "ipython",
    "version": 3
   },
   "file_extension": ".py",
   "mimetype": "text/x-python",
   "name": "python",
   "nbconvert_exporter": "python",
   "pygments_lexer": "ipython3",
   "version": "3.12.5"
  }
 },
 "nbformat": 4,
 "nbformat_minor": 5
}
